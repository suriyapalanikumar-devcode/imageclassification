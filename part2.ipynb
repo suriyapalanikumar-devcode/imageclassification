{
 "cells": [
  {
   "cell_type": "code",
   "execution_count": 39,
   "metadata": {},
   "outputs": [],
   "source": [
    "from tensorflow.keras.models import Sequential\n",
    "from tensorflow.keras.layers import Dense, Activation, Conv2D, Flatten, Dropout, MaxPooling2D, BatchNormalization, LeakyReLU\n",
    "from tensorflow.keras.preprocessing.image import ImageDataGenerator\n",
    "from keras import regularizers, optimizers\n",
    "from keras.callbacks import EarlyStopping,ReduceLROnPlateau\n",
    "import os\n",
    "import numpy as np\n",
    "import matplotlib.pyplot as plt\n",
    "import pandas as pd\n",
    "from sklearn.model_selection import train_test_split\n",
    "import keras"
   ]
  },
  {
   "cell_type": "code",
   "execution_count": 40,
   "metadata": {},
   "outputs": [
    {
     "name": "stdout",
     "output_type": "stream",
     "text": [
      "   id       label image_names\n",
      "0   1        frog       1.png\n",
      "1   2       truck       2.png\n",
      "2   3       truck       3.png\n",
      "3   4        deer       4.png\n",
      "4   5  automobile       5.png\n",
      "<class 'pandas.core.frame.DataFrame'>\n",
      "RangeIndex: 40000 entries, 0 to 39999\n",
      "Data columns (total 3 columns):\n",
      " #   Column       Non-Null Count  Dtype \n",
      "---  ------       --------------  ----- \n",
      " 0   id           40000 non-null  int64 \n",
      " 1   label        40000 non-null  object\n",
      " 2   image_names  40000 non-null  object\n",
      "dtypes: int64(1), object(2)\n",
      "memory usage: 937.6+ KB\n",
      "None\n"
     ]
    }
   ],
   "source": [
    "train = pd.read_csv(\"trainLabels.csv\")\n",
    "train[\"image_names\"] = train.apply(lambda row: str(row[\"id\"])+\".png\",axis=1)\n",
    "print(train.head())\n",
    "print(train.info())"
   ]
  },
  {
   "cell_type": "code",
   "execution_count": 41,
   "metadata": {},
   "outputs": [
    {
     "data": {
      "text/plain": [
       "0          frog\n",
       "1         truck\n",
       "2         truck\n",
       "3          deer\n",
       "4    automobile\n",
       "Name: label, dtype: object"
      ]
     },
     "execution_count": 41,
     "metadata": {},
     "output_type": "execute_result"
    }
   ],
   "source": [
    "y_train = train[\"label\"]\n",
    "X_train = train.drop(labels = [\"image_names\"], axis = 1)\n",
    "y_train.head()"
   ]
  },
  {
   "cell_type": "code",
   "execution_count": 42,
   "metadata": {},
   "outputs": [
    {
     "name": "stdout",
     "output_type": "stream",
     "text": [
      "Found 32000 validated image filenames belonging to 10 classes.\n"
     ]
    }
   ],
   "source": [
    "datagen=ImageDataGenerator(rescale=1./255.,validation_split=0.2, rotation_range=15,width_shift_range=0.1,height_shift_range=0.1,horizontal_flip=True,vertical_flip=False)\n",
    "train_generator=datagen.flow_from_dataframe(\n",
    "dataframe=train,\n",
    "directory=\"train/train/\",\n",
    "x_col=\"image_names\",\n",
    "y_col=\"label\",\n",
    "subset=\"training\",\n",
    "batch_size=32,\n",
    "seed=42,\n",
    "shuffle=True,\n",
    "class_mode=\"categorical\",\n",
    "target_size=(32,32))"
   ]
  },
  {
   "cell_type": "code",
   "execution_count": 43,
   "metadata": {},
   "outputs": [
    {
     "name": "stdout",
     "output_type": "stream",
     "text": [
      "Found 8000 validated image filenames belonging to 10 classes.\n"
     ]
    }
   ],
   "source": [
    "valid_generator=datagen.flow_from_dataframe(\n",
    "dataframe=train,\n",
    "directory=\"train/train/\",\n",
    "x_col=\"image_names\",\n",
    "y_col=\"label\",\n",
    "subset=\"validation\",\n",
    "batch_size=32,\n",
    "seed=42,\n",
    "shuffle=True,\n",
    "class_mode=\"categorical\",\n",
    "target_size=(32,32))"
   ]
  },
  {
   "cell_type": "code",
   "execution_count": 44,
   "metadata": {},
   "outputs": [
    {
     "name": "stdout",
     "output_type": "stream",
     "text": [
      "      id     label image_names\n",
      "0  40001     truck   40001.png\n",
      "1  40002       dog   40002.png\n",
      "2  40003       dog   40003.png\n",
      "3  40004     horse   40004.png\n",
      "4  40005  airplane   40005.png\n"
     ]
    }
   ],
   "source": [
    "test=pd.read_csv(\"sampleSubmission.csv\",dtype=str)\n",
    "test[\"image_names\"] = test.apply(lambda row: str(row[\"id\"])+\".png\",axis=1)\n",
    "print(test.head())"
   ]
  },
  {
   "cell_type": "code",
   "execution_count": 45,
   "metadata": {},
   "outputs": [
    {
     "name": "stdout",
     "output_type": "stream",
     "text": [
      "Found 10000 validated image filenames.\n"
     ]
    }
   ],
   "source": [
    "test_datagen=ImageDataGenerator(rescale=1./255.,validation_split=0.2, rotation_range=15,width_shift_range=0.1,height_shift_range=0.1,horizontal_flip=True,vertical_flip=False)\n",
    "test_generator=test_datagen.flow_from_dataframe(\n",
    "dataframe=test,\n",
    "directory=\"test/test/\",\n",
    "x_col=\"image_names\",\n",
    "y_col=None,\n",
    "batch_size=32,\n",
    "seed=42,\n",
    "shuffle=False,\n",
    "class_mode=None,\n",
    "target_size=(32,32))"
   ]
  },
  {
   "cell_type": "code",
   "execution_count": 99,
   "metadata": {},
   "outputs": [],
   "source": [
    "model = Sequential()\n",
    "model.add(Conv2D(32, (3, 3), padding='same',input_shape=(32,32,3)))\n",
    "model.add(Activation('relu'))\n",
    "model.add(Conv2D(32, (3, 3), padding='same',input_shape=(32,32,3)))\n",
    "model.add(Activation('relu'))\n",
    "model.add(MaxPooling2D(pool_size=(2, 2)))\n",
    "model.add(Dropout(0.25))\n",
    "model.add(Conv2D(64, (3, 3), padding='same',input_shape=(32,32,3)))\n",
    "model.add(Activation('relu'))\n",
    "model.add(Conv2D(64, (3, 3), padding='same',input_shape=(32,32,3)))\n",
    "model.add(Activation('relu'))\n",
    "model.add(MaxPooling2D(pool_size=(2, 2)))\n",
    "model.add(Dropout(0.25))\n",
    "model.add(Conv2D(128, (3, 3), padding='same',input_shape=(32,32,3)))\n",
    "model.add(Activation('relu'))\n",
    "model.add(Conv2D(128, (3, 3), padding='same',input_shape=(32,32,3)))\n",
    "model.add(Activation('relu'))\n",
    "model.add(MaxPooling2D(pool_size=(2, 2)))\n",
    "model.add(Dropout(0.25))\n",
    "model.add(Conv2D(256, (3, 3), padding='same',input_shape=(32,32,3)))\n",
    "model.add(Activation('relu'))\n",
    "model.add(Conv2D(256, (3, 3), padding='same',input_shape=(32,32,3)))\n",
    "model.add(Activation('relu'))\n",
    "model.add(MaxPooling2D(pool_size=(2, 2)))\n",
    "model.add(Dropout(0.25))\n",
    "model.add(Conv2D(64, (3, 3), padding='same',input_shape=(32,32,3)))\n",
    "model.add(Activation('relu'))\n",
    "model.add(Conv2D(64, (3, 3), padding='same',input_shape=(32,32,3)))\n",
    "model.add(Activation('relu'))\n",
    "model.add(MaxPooling2D(pool_size=(2, 2)))\n",
    "model.add(Dropout(0.25))\n",
    "model.add(Flatten())\n",
    "model.add(Dense(512))\n",
    "model.add(Activation('relu'))\n",
    "model.add(Dropout(0.5))\n",
    "model.add(Dense(10, activation='softmax'))\n",
    "model.compile(optimizers.Adam(lr = 0.001, beta_1 = 0.9, beta_2 = 0.999),loss=\"categorical_crossentropy\",metrics=[\"accuracy\"])"
   ]
  },
  {
   "cell_type": "code",
   "execution_count": 100,
   "metadata": {},
   "outputs": [
    {
     "name": "stdout",
     "output_type": "stream",
     "text": [
      "Epoch 1/50\n",
      "1000/1000 [==============================] - 293s 292ms/step - loss: 2.2193 - accuracy: 0.1441 - val_loss: 1.7347 - val_accuracy: 0.3280\n",
      "Epoch 2/50\n",
      "1000/1000 [==============================] - 286s 286ms/step - loss: 1.7451 - accuracy: 0.3269 - val_loss: 1.5043 - val_accuracy: 0.4252\n",
      "Epoch 3/50\n",
      "1000/1000 [==============================] - 279s 279ms/step - loss: 1.5457 - accuracy: 0.4211 - val_loss: 1.4179 - val_accuracy: 0.4557\n",
      "Epoch 4/50\n",
      "1000/1000 [==============================] - 274s 274ms/step - loss: 1.4320 - accuracy: 0.4737 - val_loss: 1.2680 - val_accuracy: 0.5386\n",
      "Epoch 5/50\n",
      "1000/1000 [==============================] - 284s 284ms/step - loss: 1.3316 - accuracy: 0.5245 - val_loss: 1.1915 - val_accuracy: 0.5591\n",
      "Epoch 6/50\n",
      "1000/1000 [==============================] - 281s 281ms/step - loss: 1.2506 - accuracy: 0.5546 - val_loss: 1.1300 - val_accuracy: 0.5936\n",
      "Epoch 7/50\n",
      "1000/1000 [==============================] - 283s 283ms/step - loss: 1.1839 - accuracy: 0.5785 - val_loss: 1.0947 - val_accuracy: 0.6081\n",
      "Epoch 8/50\n",
      "1000/1000 [==============================] - 190s 190ms/step - loss: 1.1261 - accuracy: 0.6048 - val_loss: 1.0385 - val_accuracy: 0.6235\n",
      "Epoch 9/50\n",
      "1000/1000 [==============================] - 162s 162ms/step - loss: 1.1054 - accuracy: 0.6153 - val_loss: 0.9951 - val_accuracy: 0.6434\n",
      "Epoch 10/50\n",
      "1000/1000 [==============================] - 170s 170ms/step - loss: 1.0665 - accuracy: 0.6284 - val_loss: 0.9403 - val_accuracy: 0.6647\n",
      "Epoch 11/50\n",
      "1000/1000 [==============================] - 169s 169ms/step - loss: 1.0460 - accuracy: 0.6385 - val_loss: 0.9314 - val_accuracy: 0.6724\n",
      "Epoch 12/50\n",
      "1000/1000 [==============================] - 172s 172ms/step - loss: 1.0145 - accuracy: 0.6496 - val_loss: 0.9386 - val_accuracy: 0.6684\n",
      "Epoch 13/50\n",
      "1000/1000 [==============================] - 173s 173ms/step - loss: 0.9942 - accuracy: 0.6602 - val_loss: 0.9157 - val_accuracy: 0.6821\n",
      "Epoch 14/50\n",
      "1000/1000 [==============================] - 172s 172ms/step - loss: 0.9850 - accuracy: 0.6592 - val_loss: 0.8835 - val_accuracy: 0.6982\n",
      "Epoch 15/50\n",
      "1000/1000 [==============================] - 185s 185ms/step - loss: 0.9405 - accuracy: 0.6784 - val_loss: 0.9465 - val_accuracy: 0.6744\n",
      "Epoch 16/50\n",
      "1000/1000 [==============================] - 279s 278ms/step - loss: 0.9370 - accuracy: 0.6823 - val_loss: 0.8576 - val_accuracy: 0.7030\n",
      "Epoch 17/50\n",
      "1000/1000 [==============================] - 168s 167ms/step - loss: 0.9159 - accuracy: 0.6916 - val_loss: 0.8597 - val_accuracy: 0.7063\n",
      "Epoch 18/50\n",
      "1000/1000 [==============================] - 174s 174ms/step - loss: 0.9080 - accuracy: 0.6968 - val_loss: 0.8789 - val_accuracy: 0.7010\n",
      "Epoch 19/50\n",
      "1000/1000 [==============================] - 236s 236ms/step - loss: 0.9104 - accuracy: 0.6949 - val_loss: 0.8310 - val_accuracy: 0.7153\n",
      "Epoch 20/50\n",
      "1000/1000 [==============================] - 290s 290ms/step - loss: 0.9012 - accuracy: 0.6993 - val_loss: 0.8522 - val_accuracy: 0.7063\n",
      "Epoch 21/50\n",
      "1000/1000 [==============================] - 290s 290ms/step - loss: 0.9115 - accuracy: 0.6968 - val_loss: 0.8425 - val_accuracy: 0.7132\n",
      "Epoch 22/50\n",
      "1000/1000 [==============================] - 300s 300ms/step - loss: 0.8893 - accuracy: 0.7036 - val_loss: 0.8442 - val_accuracy: 0.7186\n",
      "Epoch 23/50\n",
      "1000/1000 [==============================] - 300s 300ms/step - loss: 0.9059 - accuracy: 0.6995 - val_loss: 0.8293 - val_accuracy: 0.7188\n",
      "Epoch 24/50\n",
      "1000/1000 [==============================] - 283s 283ms/step - loss: 0.8731 - accuracy: 0.7096 - val_loss: 0.8833 - val_accuracy: 0.7006\n",
      "Epoch 25/50\n",
      "1000/1000 [==============================] - 290s 290ms/step - loss: 0.8777 - accuracy: 0.7060 - val_loss: 0.8040 - val_accuracy: 0.7300\n",
      "Epoch 26/50\n",
      "1000/1000 [==============================] - 318s 318ms/step - loss: 0.8591 - accuracy: 0.7161 - val_loss: 0.8344 - val_accuracy: 0.7205\n",
      "Epoch 27/50\n",
      "1000/1000 [==============================] - 283s 283ms/step - loss: 0.8719 - accuracy: 0.7113 - val_loss: 0.8520 - val_accuracy: 0.7117\n",
      "Epoch 28/50\n",
      "1000/1000 [==============================] - 265s 265ms/step - loss: 0.8355 - accuracy: 0.7214 - val_loss: 0.8651 - val_accuracy: 0.7126\n",
      "Epoch 29/50\n",
      "1000/1000 [==============================] - 165s 165ms/step - loss: 0.8559 - accuracy: 0.7206 - val_loss: 0.8340 - val_accuracy: 0.7211\n",
      "Epoch 30/50\n",
      "1000/1000 [==============================] - 173s 173ms/step - loss: 0.8374 - accuracy: 0.7239 - val_loss: 0.8269 - val_accuracy: 0.7268\n",
      "Epoch 31/50\n",
      "1000/1000 [==============================] - 167s 167ms/step - loss: 0.8852 - accuracy: 0.7120 - val_loss: 0.8919 - val_accuracy: 0.6995\n",
      "Epoch 32/50\n",
      "1000/1000 [==============================] - 168s 168ms/step - loss: 0.8234 - accuracy: 0.7289 - val_loss: 0.8343 - val_accuracy: 0.7287\n",
      "Epoch 33/50\n",
      "1000/1000 [==============================] - 173s 173ms/step - loss: 0.8238 - accuracy: 0.7278 - val_loss: 0.7801 - val_accuracy: 0.7430\n",
      "Epoch 34/50\n",
      "1000/1000 [==============================] - 179s 179ms/step - loss: 0.8394 - accuracy: 0.7254 - val_loss: 0.8057 - val_accuracy: 0.7304\n",
      "Epoch 35/50\n",
      "1000/1000 [==============================] - 174s 174ms/step - loss: 0.8324 - accuracy: 0.7272 - val_loss: 0.7927 - val_accuracy: 0.7327\n",
      "Epoch 36/50\n",
      "1000/1000 [==============================] - 172s 172ms/step - loss: 0.8442 - accuracy: 0.7204 - val_loss: 0.8385 - val_accuracy: 0.7269\n",
      "Epoch 37/50\n",
      "1000/1000 [==============================] - 176s 176ms/step - loss: 0.8621 - accuracy: 0.7166 - val_loss: 0.8226 - val_accuracy: 0.7230\n",
      "Epoch 38/50\n",
      "1000/1000 [==============================] - 174s 174ms/step - loss: 0.8239 - accuracy: 0.7349 - val_loss: 0.7917 - val_accuracy: 0.7391\n",
      "Epoch 39/50\n",
      "1000/1000 [==============================] - 173s 173ms/step - loss: 0.8482 - accuracy: 0.7242 - val_loss: 0.7834 - val_accuracy: 0.7394\n",
      "Epoch 40/50\n",
      " 629/1000 [=================>............] - ETA: 1:22 - loss: 0.8376 - accuracy: 0.7237"
     ]
    },
    {
     "ename": "KeyboardInterrupt",
     "evalue": "",
     "output_type": "error",
     "traceback": [
      "\u001b[1;31m---------------------------------------------------------------------------\u001b[0m",
      "\u001b[1;31mKeyboardInterrupt\u001b[0m                         Traceback (most recent call last)",
      "\u001b[1;32m<ipython-input-100-038dde25663f>\u001b[0m in \u001b[0;36m<module>\u001b[1;34m\u001b[0m\n\u001b[0;32m      3\u001b[0m \u001b[0mSTEP_SIZE_TEST\u001b[0m\u001b[1;33m=\u001b[0m\u001b[0mtest_generator\u001b[0m\u001b[1;33m.\u001b[0m\u001b[0mn\u001b[0m\u001b[1;33m//\u001b[0m\u001b[0mtest_generator\u001b[0m\u001b[1;33m.\u001b[0m\u001b[0mbatch_size\u001b[0m\u001b[1;33m\u001b[0m\u001b[1;33m\u001b[0m\u001b[0m\n\u001b[0;32m      4\u001b[0m \u001b[0mes\u001b[0m \u001b[1;33m=\u001b[0m \u001b[0mEarlyStopping\u001b[0m\u001b[1;33m(\u001b[0m\u001b[0mmonitor\u001b[0m\u001b[1;33m=\u001b[0m\u001b[1;34m'val_loss'\u001b[0m\u001b[1;33m,\u001b[0m \u001b[0mmode\u001b[0m\u001b[1;33m=\u001b[0m\u001b[1;34m'min'\u001b[0m\u001b[1;33m,\u001b[0m \u001b[0mverbose\u001b[0m\u001b[1;33m=\u001b[0m\u001b[1;36m1\u001b[0m\u001b[1;33m)\u001b[0m\u001b[1;33m\u001b[0m\u001b[1;33m\u001b[0m\u001b[0m\n\u001b[1;32m----> 5\u001b[1;33m model.fit(train_generator,\n\u001b[0m\u001b[0;32m      6\u001b[0m                     \u001b[0msteps_per_epoch\u001b[0m\u001b[1;33m=\u001b[0m\u001b[0mSTEP_SIZE_TRAIN\u001b[0m\u001b[1;33m,\u001b[0m\u001b[1;33m\u001b[0m\u001b[1;33m\u001b[0m\u001b[0m\n\u001b[0;32m      7\u001b[0m                     \u001b[0mvalidation_data\u001b[0m\u001b[1;33m=\u001b[0m\u001b[0mvalid_generator\u001b[0m\u001b[1;33m,\u001b[0m\u001b[1;33m\u001b[0m\u001b[1;33m\u001b[0m\u001b[0m\n",
      "\u001b[1;32m~\\anaconda3\\lib\\site-packages\\tensorflow\\python\\keras\\engine\\training.py\u001b[0m in \u001b[0;36mfit\u001b[1;34m(self, x, y, batch_size, epochs, verbose, callbacks, validation_split, validation_data, shuffle, class_weight, sample_weight, initial_epoch, steps_per_epoch, validation_steps, validation_batch_size, validation_freq, max_queue_size, workers, use_multiprocessing)\u001b[0m\n\u001b[0;32m   1098\u001b[0m                 _r=1):\n\u001b[0;32m   1099\u001b[0m               \u001b[0mcallbacks\u001b[0m\u001b[1;33m.\u001b[0m\u001b[0mon_train_batch_begin\u001b[0m\u001b[1;33m(\u001b[0m\u001b[0mstep\u001b[0m\u001b[1;33m)\u001b[0m\u001b[1;33m\u001b[0m\u001b[1;33m\u001b[0m\u001b[0m\n\u001b[1;32m-> 1100\u001b[1;33m               \u001b[0mtmp_logs\u001b[0m \u001b[1;33m=\u001b[0m \u001b[0mself\u001b[0m\u001b[1;33m.\u001b[0m\u001b[0mtrain_function\u001b[0m\u001b[1;33m(\u001b[0m\u001b[0miterator\u001b[0m\u001b[1;33m)\u001b[0m\u001b[1;33m\u001b[0m\u001b[1;33m\u001b[0m\u001b[0m\n\u001b[0m\u001b[0;32m   1101\u001b[0m               \u001b[1;32mif\u001b[0m \u001b[0mdata_handler\u001b[0m\u001b[1;33m.\u001b[0m\u001b[0mshould_sync\u001b[0m\u001b[1;33m:\u001b[0m\u001b[1;33m\u001b[0m\u001b[1;33m\u001b[0m\u001b[0m\n\u001b[0;32m   1102\u001b[0m                 \u001b[0mcontext\u001b[0m\u001b[1;33m.\u001b[0m\u001b[0masync_wait\u001b[0m\u001b[1;33m(\u001b[0m\u001b[1;33m)\u001b[0m\u001b[1;33m\u001b[0m\u001b[1;33m\u001b[0m\u001b[0m\n",
      "\u001b[1;32m~\\anaconda3\\lib\\site-packages\\tensorflow\\python\\eager\\def_function.py\u001b[0m in \u001b[0;36m__call__\u001b[1;34m(self, *args, **kwds)\u001b[0m\n\u001b[0;32m    826\u001b[0m     \u001b[0mtracing_count\u001b[0m \u001b[1;33m=\u001b[0m \u001b[0mself\u001b[0m\u001b[1;33m.\u001b[0m\u001b[0mexperimental_get_tracing_count\u001b[0m\u001b[1;33m(\u001b[0m\u001b[1;33m)\u001b[0m\u001b[1;33m\u001b[0m\u001b[1;33m\u001b[0m\u001b[0m\n\u001b[0;32m    827\u001b[0m     \u001b[1;32mwith\u001b[0m \u001b[0mtrace\u001b[0m\u001b[1;33m.\u001b[0m\u001b[0mTrace\u001b[0m\u001b[1;33m(\u001b[0m\u001b[0mself\u001b[0m\u001b[1;33m.\u001b[0m\u001b[0m_name\u001b[0m\u001b[1;33m)\u001b[0m \u001b[1;32mas\u001b[0m \u001b[0mtm\u001b[0m\u001b[1;33m:\u001b[0m\u001b[1;33m\u001b[0m\u001b[1;33m\u001b[0m\u001b[0m\n\u001b[1;32m--> 828\u001b[1;33m       \u001b[0mresult\u001b[0m \u001b[1;33m=\u001b[0m \u001b[0mself\u001b[0m\u001b[1;33m.\u001b[0m\u001b[0m_call\u001b[0m\u001b[1;33m(\u001b[0m\u001b[1;33m*\u001b[0m\u001b[0margs\u001b[0m\u001b[1;33m,\u001b[0m \u001b[1;33m**\u001b[0m\u001b[0mkwds\u001b[0m\u001b[1;33m)\u001b[0m\u001b[1;33m\u001b[0m\u001b[1;33m\u001b[0m\u001b[0m\n\u001b[0m\u001b[0;32m    829\u001b[0m       \u001b[0mcompiler\u001b[0m \u001b[1;33m=\u001b[0m \u001b[1;34m\"xla\"\u001b[0m \u001b[1;32mif\u001b[0m \u001b[0mself\u001b[0m\u001b[1;33m.\u001b[0m\u001b[0m_experimental_compile\u001b[0m \u001b[1;32melse\u001b[0m \u001b[1;34m\"nonXla\"\u001b[0m\u001b[1;33m\u001b[0m\u001b[1;33m\u001b[0m\u001b[0m\n\u001b[0;32m    830\u001b[0m       \u001b[0mnew_tracing_count\u001b[0m \u001b[1;33m=\u001b[0m \u001b[0mself\u001b[0m\u001b[1;33m.\u001b[0m\u001b[0mexperimental_get_tracing_count\u001b[0m\u001b[1;33m(\u001b[0m\u001b[1;33m)\u001b[0m\u001b[1;33m\u001b[0m\u001b[1;33m\u001b[0m\u001b[0m\n",
      "\u001b[1;32m~\\anaconda3\\lib\\site-packages\\tensorflow\\python\\eager\\def_function.py\u001b[0m in \u001b[0;36m_call\u001b[1;34m(self, *args, **kwds)\u001b[0m\n\u001b[0;32m    853\u001b[0m       \u001b[1;31m# In this case we have created variables on the first call, so we run the\u001b[0m\u001b[1;33m\u001b[0m\u001b[1;33m\u001b[0m\u001b[1;33m\u001b[0m\u001b[0m\n\u001b[0;32m    854\u001b[0m       \u001b[1;31m# defunned version which is guaranteed to never create variables.\u001b[0m\u001b[1;33m\u001b[0m\u001b[1;33m\u001b[0m\u001b[1;33m\u001b[0m\u001b[0m\n\u001b[1;32m--> 855\u001b[1;33m       \u001b[1;32mreturn\u001b[0m \u001b[0mself\u001b[0m\u001b[1;33m.\u001b[0m\u001b[0m_stateless_fn\u001b[0m\u001b[1;33m(\u001b[0m\u001b[1;33m*\u001b[0m\u001b[0margs\u001b[0m\u001b[1;33m,\u001b[0m \u001b[1;33m**\u001b[0m\u001b[0mkwds\u001b[0m\u001b[1;33m)\u001b[0m  \u001b[1;31m# pylint: disable=not-callable\u001b[0m\u001b[1;33m\u001b[0m\u001b[1;33m\u001b[0m\u001b[0m\n\u001b[0m\u001b[0;32m    856\u001b[0m     \u001b[1;32melif\u001b[0m \u001b[0mself\u001b[0m\u001b[1;33m.\u001b[0m\u001b[0m_stateful_fn\u001b[0m \u001b[1;32mis\u001b[0m \u001b[1;32mnot\u001b[0m \u001b[1;32mNone\u001b[0m\u001b[1;33m:\u001b[0m\u001b[1;33m\u001b[0m\u001b[1;33m\u001b[0m\u001b[0m\n\u001b[0;32m    857\u001b[0m       \u001b[1;31m# Release the lock early so that multiple threads can perform the call\u001b[0m\u001b[1;33m\u001b[0m\u001b[1;33m\u001b[0m\u001b[1;33m\u001b[0m\u001b[0m\n",
      "\u001b[1;32m~\\anaconda3\\lib\\site-packages\\tensorflow\\python\\eager\\function.py\u001b[0m in \u001b[0;36m__call__\u001b[1;34m(self, *args, **kwargs)\u001b[0m\n\u001b[0;32m   2940\u001b[0m       (graph_function,\n\u001b[0;32m   2941\u001b[0m        filtered_flat_args) = self._maybe_define_function(args, kwargs)\n\u001b[1;32m-> 2942\u001b[1;33m     return graph_function._call_flat(\n\u001b[0m\u001b[0;32m   2943\u001b[0m         filtered_flat_args, captured_inputs=graph_function.captured_inputs)  # pylint: disable=protected-access\n\u001b[0;32m   2944\u001b[0m \u001b[1;33m\u001b[0m\u001b[0m\n",
      "\u001b[1;32m~\\anaconda3\\lib\\site-packages\\tensorflow\\python\\eager\\function.py\u001b[0m in \u001b[0;36m_call_flat\u001b[1;34m(self, args, captured_inputs, cancellation_manager)\u001b[0m\n\u001b[0;32m   1916\u001b[0m         and executing_eagerly):\n\u001b[0;32m   1917\u001b[0m       \u001b[1;31m# No tape is watching; skip to running the function.\u001b[0m\u001b[1;33m\u001b[0m\u001b[1;33m\u001b[0m\u001b[1;33m\u001b[0m\u001b[0m\n\u001b[1;32m-> 1918\u001b[1;33m       return self._build_call_outputs(self._inference_function.call(\n\u001b[0m\u001b[0;32m   1919\u001b[0m           ctx, args, cancellation_manager=cancellation_manager))\n\u001b[0;32m   1920\u001b[0m     forward_backward = self._select_forward_and_backward_functions(\n",
      "\u001b[1;32m~\\anaconda3\\lib\\site-packages\\tensorflow\\python\\eager\\function.py\u001b[0m in \u001b[0;36mcall\u001b[1;34m(self, ctx, args, cancellation_manager)\u001b[0m\n\u001b[0;32m    553\u001b[0m       \u001b[1;32mwith\u001b[0m \u001b[0m_InterpolateFunctionError\u001b[0m\u001b[1;33m(\u001b[0m\u001b[0mself\u001b[0m\u001b[1;33m)\u001b[0m\u001b[1;33m:\u001b[0m\u001b[1;33m\u001b[0m\u001b[1;33m\u001b[0m\u001b[0m\n\u001b[0;32m    554\u001b[0m         \u001b[1;32mif\u001b[0m \u001b[0mcancellation_manager\u001b[0m \u001b[1;32mis\u001b[0m \u001b[1;32mNone\u001b[0m\u001b[1;33m:\u001b[0m\u001b[1;33m\u001b[0m\u001b[1;33m\u001b[0m\u001b[0m\n\u001b[1;32m--> 555\u001b[1;33m           outputs = execute.execute(\n\u001b[0m\u001b[0;32m    556\u001b[0m               \u001b[0mstr\u001b[0m\u001b[1;33m(\u001b[0m\u001b[0mself\u001b[0m\u001b[1;33m.\u001b[0m\u001b[0msignature\u001b[0m\u001b[1;33m.\u001b[0m\u001b[0mname\u001b[0m\u001b[1;33m)\u001b[0m\u001b[1;33m,\u001b[0m\u001b[1;33m\u001b[0m\u001b[1;33m\u001b[0m\u001b[0m\n\u001b[0;32m    557\u001b[0m               \u001b[0mnum_outputs\u001b[0m\u001b[1;33m=\u001b[0m\u001b[0mself\u001b[0m\u001b[1;33m.\u001b[0m\u001b[0m_num_outputs\u001b[0m\u001b[1;33m,\u001b[0m\u001b[1;33m\u001b[0m\u001b[1;33m\u001b[0m\u001b[0m\n",
      "\u001b[1;32m~\\anaconda3\\lib\\site-packages\\tensorflow\\python\\eager\\execute.py\u001b[0m in \u001b[0;36mquick_execute\u001b[1;34m(op_name, num_outputs, inputs, attrs, ctx, name)\u001b[0m\n\u001b[0;32m     57\u001b[0m   \u001b[1;32mtry\u001b[0m\u001b[1;33m:\u001b[0m\u001b[1;33m\u001b[0m\u001b[1;33m\u001b[0m\u001b[0m\n\u001b[0;32m     58\u001b[0m     \u001b[0mctx\u001b[0m\u001b[1;33m.\u001b[0m\u001b[0mensure_initialized\u001b[0m\u001b[1;33m(\u001b[0m\u001b[1;33m)\u001b[0m\u001b[1;33m\u001b[0m\u001b[1;33m\u001b[0m\u001b[0m\n\u001b[1;32m---> 59\u001b[1;33m     tensors = pywrap_tfe.TFE_Py_Execute(ctx._handle, device_name, op_name,\n\u001b[0m\u001b[0;32m     60\u001b[0m                                         inputs, attrs, num_outputs)\n\u001b[0;32m     61\u001b[0m   \u001b[1;32mexcept\u001b[0m \u001b[0mcore\u001b[0m\u001b[1;33m.\u001b[0m\u001b[0m_NotOkStatusException\u001b[0m \u001b[1;32mas\u001b[0m \u001b[0me\u001b[0m\u001b[1;33m:\u001b[0m\u001b[1;33m\u001b[0m\u001b[1;33m\u001b[0m\u001b[0m\n",
      "\u001b[1;31mKeyboardInterrupt\u001b[0m: "
     ]
    }
   ],
   "source": [
    "STEP_SIZE_TRAIN=train_generator.n//train_generator.batch_size\n",
    "STEP_SIZE_VALID=valid_generator.n//valid_generator.batch_size\n",
    "STEP_SIZE_TEST=test_generator.n//test_generator.batch_size\n",
    "es = EarlyStopping(monitor='val_loss', mode='min', verbose=1)\n",
    "model.fit(train_generator,\n",
    "                    steps_per_epoch=STEP_SIZE_TRAIN,\n",
    "                    validation_data=valid_generator,\n",
    "                    validation_steps=STEP_SIZE_VALID,\n",
    "                    epochs=50\n",
    "          \n",
    "          \n",
    ")"
   ]
  },
  {
   "cell_type": "code",
   "execution_count": 68,
   "metadata": {},
   "outputs": [
    {
     "name": "stdout",
     "output_type": "stream",
     "text": [
      "250/250 [==============================] - 40s 162ms/step - loss: 1.5230 - accuracy: 0.7744\n"
     ]
    },
    {
     "data": {
      "text/plain": [
       "[1.5230351686477661, 0.7743750214576721]"
      ]
     },
     "execution_count": 68,
     "metadata": {},
     "output_type": "execute_result"
    }
   ],
   "source": [
    "model.evaluate(valid_generator)"
   ]
  },
  {
   "cell_type": "code",
   "execution_count": 21,
   "metadata": {},
   "outputs": [
    {
     "name": "stdout",
     "output_type": "stream",
     "text": [
      "313/313 [==============================] - 76s 243ms/step\n"
     ]
    }
   ],
   "source": [
    "test_generator.reset()\n",
    "pred=model.predict(test_generator,verbose=1)"
   ]
  },
  {
   "cell_type": "code",
   "execution_count": 107,
   "metadata": {},
   "outputs": [
    {
     "name": "stdout",
     "output_type": "stream",
     "text": [
      "10000\n",
      "10000\n"
     ]
    }
   ],
   "source": [
    "print(len(pred))\n",
    "predicted_class_indices=np.argmax(pred,axis=1)\n",
    "print(len(predicted_class_indices))"
   ]
  },
  {
   "cell_type": "code",
   "execution_count": 108,
   "metadata": {},
   "outputs": [],
   "source": [
    "labels = (train_generator.class_indices)\n",
    "labels = dict((v,k) for k,v in labels.items())\n",
    "predictions = [labels[k] for k in predicted_class_indices]"
   ]
  },
  {
   "cell_type": "code",
   "execution_count": 109,
   "metadata": {},
   "outputs": [
    {
     "name": "stdout",
     "output_type": "stream",
     "text": [
      "10000\n",
      "10000\n"
     ]
    }
   ],
   "source": [
    "filenames=test_generator.filenames\n",
    "filenames = [i.split(\".\")[0] for i in filenames]\n",
    "print(len(predictions))\n",
    "print(len(filenames))\n",
    "results=pd.DataFrame({\"id\":filenames,\n",
    "                       \"label\":predictions})\n",
    "results\n",
    "results.to_csv(\"results.csv\",index=False)"
   ]
  },
  {
   "cell_type": "code",
   "execution_count": 66,
   "metadata": {},
   "outputs": [],
   "source": [
    "# Model 2\n",
    "model = Sequential()\n",
    "model.add(Conv2D(32, kernel_size=(3, 3),activation='linear',input_shape=(32,32,3),padding='same'))\n",
    "model.add(LeakyReLU(alpha=0.1))\n",
    "model.add(MaxPooling2D((2, 2),padding='same'))\n",
    "model.add(Dropout(0.25))\n",
    "model.add(Conv2D(64, (3, 3), activation='linear',padding='same'))\n",
    "model.add(LeakyReLU(alpha=0.1))\n",
    "model.add(MaxPooling2D(pool_size=(2, 2),padding='same'))\n",
    "model.add(Dropout(0.25))\n",
    "model.add(Conv2D(128, (3, 3), activation='linear',padding='same'))\n",
    "model.add(LeakyReLU(alpha=0.1))                  \n",
    "model.add(MaxPooling2D(pool_size=(2, 2),padding='same'))\n",
    "model.add(Flatten())\n",
    "model.add(Dense(512, activation='linear'))\n",
    "model.add(LeakyReLU(alpha=0.1))      \n",
    "model.add(Dropout(0.5))\n",
    "model.add(Dense(10, activation='softmax'))\n",
    "adam = optimizers.Adam(lr=0.0006, beta_1=0.9, beta_2=0.999, decay=0.0)\n",
    "\n",
    "model.compile(optimizer=adam,\n",
    "              loss='categorical_crossentropy',\n",
    "              metrics=['accuracy'])\n",
    "#model.compile(optimizers.Adam(lr = 0.001, beta_1 = 0.9, beta_2 = 0.999),loss=\"categorical_crossentropy\",metrics=[\"accuracy\"])"
   ]
  },
  {
   "cell_type": "code",
   "execution_count": 59,
   "metadata": {},
   "outputs": [],
   "source": [
    "# Model 3\n",
    "model = Sequential()\n",
    "model.add(Conv2D(32, kernel_size=(3, 3),activation='linear',input_shape=(32,32,3),padding='same'))\n",
    "model.add(LeakyReLU(alpha=0.1))\n",
    "model.add(MaxPooling2D((2, 2),padding='same'))\n",
    "model.add(Dropout(0.25))\n",
    "model.add(Conv2D(64, (3, 3), activation='linear',padding='same'))\n",
    "model.add(LeakyReLU(alpha=0.1))\n",
    "model.add(MaxPooling2D(pool_size=(2, 2),padding='same'))\n",
    "model.add(Dropout(0.25))\n",
    "model.add(Conv2D(128, (3, 3), activation='linear',padding='same'))\n",
    "model.add(LeakyReLU(alpha=0.1))                  \n",
    "model.add(MaxPooling2D(pool_size=(2, 2),padding='same'))\n",
    "model.add(Dropout(0.25))\n",
    "model.add(Conv2D(256, (3, 3), activation='linear',padding='same'))\n",
    "model.add(LeakyReLU(alpha=0.1))                  \n",
    "model.add(MaxPooling2D(pool_size=(2, 2),padding='same'))\n",
    "model.add(Dropout(0.25))\n",
    "model.add(Flatten())\n",
    "model.add(Dense(512, activation='linear'))\n",
    "model.add(LeakyReLU(alpha=0.1))      \n",
    "model.add(Dropout(0.5))\n",
    "model.add(Dense(10, activation='softmax'))\n",
    "adam = optimizers.Adam(lr=0.0006, beta_1=0.9, beta_2=0.999, decay=0.0)\n",
    "\n",
    "model.compile(optimizer=adam,\n",
    "              loss='categorical_crossentropy',\n",
    "              metrics=['accuracy'])"
   ]
  },
  {
   "cell_type": "code",
   "execution_count": 32,
   "metadata": {},
   "outputs": [],
   "source": [
    "# model 4\n",
    "model = Sequential()\n",
    "model.add(Conv2D(32, (3, 3), activation='relu',  padding='same', input_shape=(32, 32, 3)))\n",
    "model.add(BatchNormalization())\n",
    "model.add(Conv2D(32, (3, 3), activation='relu',  padding='same'))\n",
    "model.add(BatchNormalization())\n",
    "model.add(MaxPooling2D(pool_size=(2, 2),padding='same'))\n",
    "model.add(Dropout(0.2))\n",
    "model.add(Conv2D(64, (3, 3), activation='relu',  padding='same'))\n",
    "model.add(BatchNormalization())\n",
    "model.add(Conv2D(64, (3, 3), activation='relu', padding='same'))\n",
    "model.add(BatchNormalization())\n",
    "model.add(MaxPooling2D(pool_size=(2, 2),padding='same'))\n",
    "model.add(Dropout(0.3))\n",
    "model.add(Conv2D(128, (3, 3), activation='relu',  padding='same'))\n",
    "model.add(BatchNormalization())\n",
    "model.add(Conv2D(128, (3, 3), activation='relu', padding='same'))\n",
    "model.add(BatchNormalization())\n",
    "model.add(MaxPooling2D(pool_size=(2, 2),padding='same'))\n",
    "model.add(Dropout(0.4))\n",
    "model.add(Conv2D(128,(3,3), activation='relu',padding='same'))\n",
    "model.add(BatchNormalization())\n",
    "model.add(Dropout(0.5))\n",
    "model.add(Conv2D(128,(3,3), activation='relu',padding='same'))\n",
    "model.add(BatchNormalization())\n",
    "model.add(Dropout(0.5))\n",
    "model.add(Conv2D(512,(3,3), activation='relu', padding='same'))\n",
    "model.add(BatchNormalization())\n",
    "model.add(Dropout(0.6))\n",
    "model.add(Conv2D(512,(3,3), activation='relu',padding='same'))\n",
    "model.add(BatchNormalization())\n",
    "model.add(Dropout(0.6))\n",
    "model.add(Flatten())   \n",
    "model.add(Dense(128, activation='relu'))\n",
    "model.add(BatchNormalization())\n",
    "model.add(Dropout(0.6))            \n",
    "model.add(Dense(10, activation='softmax'))\n",
    "opt = optimizers.Adam(lr = 0.001, decay = 1e-5)\n",
    "model.compile(loss='categorical_crossentropy', optimizer=opt, metrics=['accuracy'])"
   ]
  },
  {
   "cell_type": "code",
   "execution_count": 33,
   "metadata": {},
   "outputs": [
    {
     "name": "stdout",
     "output_type": "stream",
     "text": [
      "Epoch 1/50\n",
      "1000/1000 [==============================] - 646s 645ms/step - loss: 2.6588 - accuracy: 0.1985 - val_loss: 1.9069 - val_accuracy: 0.3479\n",
      "Epoch 2/50\n",
      "1000/1000 [==============================] - 668s 668ms/step - loss: 1.7035 - accuracy: 0.3743 - val_loss: 1.4375 - val_accuracy: 0.4699\n",
      "Epoch 3/50\n",
      "1000/1000 [==============================] - 627s 627ms/step - loss: 1.4779 - accuracy: 0.4646 - val_loss: 1.2574 - val_accuracy: 0.5458\n",
      "Epoch 4/50\n",
      "1000/1000 [==============================] - 633s 633ms/step - loss: 1.3469 - accuracy: 0.5212 - val_loss: 1.1388 - val_accuracy: 0.5951\n",
      "Epoch 5/50\n",
      "1000/1000 [==============================] - 352s 352ms/step - loss: 1.2155 - accuracy: 0.5748 - val_loss: 1.0178 - val_accuracy: 0.6438\n",
      "Epoch 6/50\n",
      "1000/1000 [==============================] - 456s 456ms/step - loss: 1.1336 - accuracy: 0.6065 - val_loss: 1.0372 - val_accuracy: 0.6405\n",
      "Epoch 7/50\n",
      "1000/1000 [==============================] - 720s 720ms/step - loss: 1.0755 - accuracy: 0.6262 - val_loss: 0.9023 - val_accuracy: 0.6856\n",
      "Epoch 8/50\n",
      "1000/1000 [==============================] - 678s 678ms/step - loss: 1.0098 - accuracy: 0.6537 - val_loss: 0.7987 - val_accuracy: 0.7196\n",
      "Epoch 9/50\n",
      "1000/1000 [==============================] - 579s 579ms/step - loss: 0.9635 - accuracy: 0.6747 - val_loss: 0.7679 - val_accuracy: 0.7274\n",
      "Epoch 10/50\n",
      "1000/1000 [==============================] - 479s 479ms/step - loss: 0.9295 - accuracy: 0.6902 - val_loss: 0.7835 - val_accuracy: 0.7290\n",
      "Epoch 11/50\n",
      "1000/1000 [==============================] - 346s 346ms/step - loss: 0.8703 - accuracy: 0.7113 - val_loss: 0.8440 - val_accuracy: 0.7113\n",
      "Epoch 12/50\n",
      "1000/1000 [==============================] - 347s 347ms/step - loss: 0.8502 - accuracy: 0.7150 - val_loss: 0.7990 - val_accuracy: 0.7310\n",
      "Epoch 13/50\n",
      "1000/1000 [==============================] - 474s 474ms/step - loss: 0.8285 - accuracy: 0.7257 - val_loss: 0.7324 - val_accuracy: 0.7484\n",
      "Epoch 14/50\n",
      "1000/1000 [==============================] - 356s 356ms/step - loss: 0.7880 - accuracy: 0.7363 - val_loss: 0.6398 - val_accuracy: 0.7810\n",
      "Epoch 15/50\n",
      "1000/1000 [==============================] - 368s 368ms/step - loss: 0.7632 - accuracy: 0.7497 - val_loss: 0.6454 - val_accuracy: 0.7754\n",
      "Epoch 16/50\n",
      "1000/1000 [==============================] - 484s 484ms/step - loss: 0.7787 - accuracy: 0.7436 - val_loss: 0.6364 - val_accuracy: 0.7796\n",
      "Epoch 17/50\n",
      "1000/1000 [==============================] - 355s 355ms/step - loss: 0.7534 - accuracy: 0.7489 - val_loss: 0.6852 - val_accuracy: 0.7615\n",
      "Epoch 18/50\n",
      "1000/1000 [==============================] - 366s 366ms/step - loss: 0.7326 - accuracy: 0.7561 - val_loss: 0.6109 - val_accuracy: 0.7935\n",
      "Epoch 19/50\n",
      "1000/1000 [==============================] - 499s 499ms/step - loss: 0.7058 - accuracy: 0.7683 - val_loss: 0.6092 - val_accuracy: 0.7912\n",
      "Epoch 20/50\n",
      "1000/1000 [==============================] - 468s 468ms/step - loss: 0.6927 - accuracy: 0.7679 - val_loss: 0.6135 - val_accuracy: 0.7929\n",
      "Epoch 21/50\n",
      "1000/1000 [==============================] - 356s 356ms/step - loss: 0.6891 - accuracy: 0.7746 - val_loss: 0.5651 - val_accuracy: 0.8098\n",
      "Epoch 22/50\n",
      "1000/1000 [==============================] - 366s 366ms/step - loss: 0.6738 - accuracy: 0.7775 - val_loss: 0.6202 - val_accuracy: 0.7940\n",
      "Epoch 23/50\n",
      "1000/1000 [==============================] - 367s 367ms/step - loss: 0.6592 - accuracy: 0.7814 - val_loss: 0.5196 - val_accuracy: 0.8213\n",
      "Epoch 24/50\n",
      "1000/1000 [==============================] - 636s 636ms/step - loss: 0.6508 - accuracy: 0.7865 - val_loss: 0.5795 - val_accuracy: 0.8041\n",
      "Epoch 25/50\n",
      "1000/1000 [==============================] - 660s 660ms/step - loss: 0.6457 - accuracy: 0.7862 - val_loss: 0.5419 - val_accuracy: 0.8163\n",
      "Epoch 26/50\n",
      "1000/1000 [==============================] - 688s 688ms/step - loss: 0.6214 - accuracy: 0.7955 - val_loss: 0.5701 - val_accuracy: 0.8039\n",
      "Epoch 27/50\n",
      "1000/1000 [==============================] - 671s 671ms/step - loss: 0.6300 - accuracy: 0.7895 - val_loss: 0.5472 - val_accuracy: 0.8159\n",
      "Epoch 28/50\n",
      "1000/1000 [==============================] - 622s 622ms/step - loss: 0.6220 - accuracy: 0.7905 - val_loss: 0.5228 - val_accuracy: 0.8191\n",
      "Epoch 29/50\n",
      "1000/1000 [==============================] - 538s 538ms/step - loss: 0.5897 - accuracy: 0.8041 - val_loss: 0.5125 - val_accuracy: 0.8263\n",
      "Epoch 30/50\n",
      "1000/1000 [==============================] - 401s 401ms/step - loss: 0.5907 - accuracy: 0.8054 - val_loss: 0.4983 - val_accuracy: 0.8292\n",
      "Epoch 31/50\n",
      "1000/1000 [==============================] - 395s 395ms/step - loss: 0.5851 - accuracy: 0.8038 - val_loss: 0.4977 - val_accuracy: 0.8275\n",
      "Epoch 32/50\n",
      "1000/1000 [==============================] - 415s 415ms/step - loss: 0.5895 - accuracy: 0.8067 - val_loss: 0.5551 - val_accuracy: 0.8145\n",
      "Epoch 33/50\n",
      "1000/1000 [==============================] - 415s 415ms/step - loss: 0.5865 - accuracy: 0.8102 - val_loss: 0.4927 - val_accuracy: 0.8335\n",
      "Epoch 34/50\n",
      "1000/1000 [==============================] - 466s 466ms/step - loss: 0.5743 - accuracy: 0.8072 - val_loss: 0.5039 - val_accuracy: 0.8263\n",
      "Epoch 35/50\n",
      "1000/1000 [==============================] - 425s 425ms/step - loss: 0.5598 - accuracy: 0.8148 - val_loss: 0.4784 - val_accuracy: 0.8375\n",
      "Epoch 36/50\n",
      "1000/1000 [==============================] - 367s 367ms/step - loss: 0.5605 - accuracy: 0.8169 - val_loss: 0.4716 - val_accuracy: 0.8388\n",
      "Epoch 37/50\n",
      "1000/1000 [==============================] - 365s 365ms/step - loss: 0.5449 - accuracy: 0.8209 - val_loss: 0.4725 - val_accuracy: 0.8378\n",
      "Epoch 38/50\n",
      "1000/1000 [==============================] - 366s 366ms/step - loss: 0.5477 - accuracy: 0.8171 - val_loss: 0.4559 - val_accuracy: 0.8432\n",
      "Epoch 39/50\n",
      "1000/1000 [==============================] - 366s 366ms/step - loss: 0.5501 - accuracy: 0.8199 - val_loss: 0.4810 - val_accuracy: 0.8422\n",
      "Epoch 40/50\n",
      "1000/1000 [==============================] - 366s 366ms/step - loss: 0.5368 - accuracy: 0.8204 - val_loss: 0.4751 - val_accuracy: 0.8415\n",
      "Epoch 41/50\n",
      "1000/1000 [==============================] - 631s 632ms/step - loss: 0.5280 - accuracy: 0.8279 - val_loss: 0.4614 - val_accuracy: 0.8445\n",
      "Epoch 42/50\n",
      "1000/1000 [==============================] - 513s 513ms/step - loss: 0.5250 - accuracy: 0.8286 - val_loss: 0.4476 - val_accuracy: 0.8478\n",
      "Epoch 43/50\n",
      "1000/1000 [==============================] - 427s 427ms/step - loss: 0.5376 - accuracy: 0.8235 - val_loss: 0.4470 - val_accuracy: 0.8506\n",
      "Epoch 44/50\n",
      "1000/1000 [==============================] - 492s 492ms/step - loss: 0.5244 - accuracy: 0.8286 - val_loss: 0.4654 - val_accuracy: 0.8451\n",
      "Epoch 45/50\n",
      "1000/1000 [==============================] - 644s 644ms/step - loss: 0.5129 - accuracy: 0.8304 - val_loss: 0.4457 - val_accuracy: 0.8511\n",
      "Epoch 46/50\n",
      "1000/1000 [==============================] - 653s 653ms/step - loss: 0.5088 - accuracy: 0.8274 - val_loss: 0.4672 - val_accuracy: 0.8456\n",
      "Epoch 47/50\n",
      "1000/1000 [==============================] - 686s 686ms/step - loss: 0.5153 - accuracy: 0.8292 - val_loss: 0.4579 - val_accuracy: 0.8455\n",
      "Epoch 48/50\n",
      "1000/1000 [==============================] - 636s 636ms/step - loss: 0.5051 - accuracy: 0.8304 - val_loss: 0.4680 - val_accuracy: 0.8429\n",
      "Epoch 49/50\n",
      "1000/1000 [==============================] - 666s 666ms/step - loss: 0.5069 - accuracy: 0.8325 - val_loss: 0.4280 - val_accuracy: 0.8543\n",
      "Epoch 50/50\n",
      "1000/1000 [==============================] - 654s 654ms/step - loss: 0.4953 - accuracy: 0.8361 - val_loss: 0.4271 - val_accuracy: 0.8549\n"
     ]
    },
    {
     "data": {
      "text/plain": [
       "<tensorflow.python.keras.callbacks.History at 0x185c473d430>"
      ]
     },
     "execution_count": 33,
     "metadata": {},
     "output_type": "execute_result"
    }
   ],
   "source": [
    "STEP_SIZE_TRAIN=train_generator.n//train_generator.batch_size\n",
    "STEP_SIZE_VALID=valid_generator.n//valid_generator.batch_size\n",
    "STEP_SIZE_TEST=test_generator.n//test_generator.batch_size\n",
    "es = EarlyStopping(monitor='val_loss', mode='min', verbose=1)\n",
    "model.fit(train_generator,\n",
    "                    steps_per_epoch=STEP_SIZE_TRAIN,\n",
    "                    validation_data=valid_generator,\n",
    "                    validation_steps=STEP_SIZE_VALID,\n",
    "                    epochs=50\n",
    ")"
   ]
  },
  {
   "cell_type": "code",
   "execution_count": 34,
   "metadata": {},
   "outputs": [
    {
     "name": "stdout",
     "output_type": "stream",
     "text": [
      "250/250 [==============================] - 26s 103ms/step - loss: 0.4263 - accuracy: 0.8541\n"
     ]
    },
    {
     "data": {
      "text/plain": [
       "[0.4262973666191101, 0.8541250228881836]"
      ]
     },
     "execution_count": 34,
     "metadata": {},
     "output_type": "execute_result"
    }
   ],
   "source": [
    "model.evaluate(valid_generator)"
   ]
  },
  {
   "cell_type": "code",
   "execution_count": 35,
   "metadata": {},
   "outputs": [
    {
     "name": "stdout",
     "output_type": "stream",
     "text": [
      "313/313 [==============================] - 131s 418ms/step\n"
     ]
    }
   ],
   "source": [
    "test_generator.reset()\n",
    "pred=Leaves_model.predict(test_generator,verbose=1)"
   ]
  },
  {
   "cell_type": "code",
   "execution_count": 36,
   "metadata": {},
   "outputs": [
    {
     "name": "stdout",
     "output_type": "stream",
     "text": [
      "10000\n",
      "10000\n"
     ]
    }
   ],
   "source": [
    "print(len(pred))\n",
    "predicted_class_indices=np.argmax(pred,axis=1)\n",
    "print(len(predicted_class_indices))"
   ]
  },
  {
   "cell_type": "code",
   "execution_count": 37,
   "metadata": {},
   "outputs": [],
   "source": [
    "labels = (train_generator.class_indices)\n",
    "labels = dict((v,k) for k,v in labels.items())\n",
    "predictions = [labels[k] for k in predicted_class_indices]"
   ]
  },
  {
   "cell_type": "code",
   "execution_count": 38,
   "metadata": {},
   "outputs": [
    {
     "name": "stdout",
     "output_type": "stream",
     "text": [
      "10000\n",
      "10000\n"
     ]
    }
   ],
   "source": [
    "filenames=test_generator.filenames\n",
    "filenames = [i.split(\".\")[0] for i in filenames]\n",
    "print(len(predictions))\n",
    "print(len(filenames))\n",
    "results=pd.DataFrame({\"id\":filenames,\n",
    "                       \"label\":predictions})\n",
    "results.to_csv(\"results.csv\",index=False)"
   ]
  },
  {
   "cell_type": "markdown",
   "metadata": {},
   "source": [
    "**Comments and Observations:**\n",
    "\n",
    "Keras model provided better accuracy on increasing the convolutional layer and by MaxPooling. Initially model gave an accuracy of 74% which got improved by 85%. "
   ]
  }
 ],
 "metadata": {
  "kernelspec": {
   "display_name": "Python 3",
   "language": "python",
   "name": "python3"
  },
  "language_info": {
   "codemirror_mode": {
    "name": "ipython",
    "version": 3
   },
   "file_extension": ".py",
   "mimetype": "text/x-python",
   "name": "python",
   "nbconvert_exporter": "python",
   "pygments_lexer": "ipython3",
   "version": "3.8.5"
  }
 },
 "nbformat": 4,
 "nbformat_minor": 4
}

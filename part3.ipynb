{
  "nbformat": 4,
  "nbformat_minor": 0,
  "metadata": {
    "colab": {
      "name": "part3.ipynb",
      "provenance": [],
      "collapsed_sections": []
    },
    "kernelspec": {
      "display_name": "Python 3",
      "language": "python",
      "name": "python3"
    },
    "language_info": {
      "codemirror_mode": {
        "name": "ipython",
        "version": 3
      },
      "file_extension": ".py",
      "mimetype": "text/x-python",
      "name": "python",
      "nbconvert_exporter": "python",
      "pygments_lexer": "ipython3",
      "version": "3.8.5"
    }
  },
  "cells": [
    {
      "cell_type": "code",
      "metadata": {
        "colab": {
          "base_uri": "https://localhost:8080/"
        },
        "id": "iuP6wQBVfEcV",
        "outputId": "ffef3960-38c8-43c3-e04a-e8d48bdfe5d9"
      },
      "source": [
        "!pip install scikit-plot"
      ],
      "execution_count": 1,
      "outputs": [
        {
          "output_type": "stream",
          "text": [
            "Collecting scikit-plot\n",
            "  Downloading https://files.pythonhosted.org/packages/7c/47/32520e259340c140a4ad27c1b97050dd3254fdc517b1d59974d47037510e/scikit_plot-0.3.7-py3-none-any.whl\n",
            "Requirement already satisfied: scipy>=0.9 in /usr/local/lib/python3.7/dist-packages (from scikit-plot) (1.4.1)\n",
            "Requirement already satisfied: joblib>=0.10 in /usr/local/lib/python3.7/dist-packages (from scikit-plot) (1.0.1)\n",
            "Requirement already satisfied: matplotlib>=1.4.0 in /usr/local/lib/python3.7/dist-packages (from scikit-plot) (3.2.2)\n",
            "Requirement already satisfied: scikit-learn>=0.18 in /usr/local/lib/python3.7/dist-packages (from scikit-plot) (0.22.2.post1)\n",
            "Requirement already satisfied: numpy>=1.13.3 in /usr/local/lib/python3.7/dist-packages (from scipy>=0.9->scikit-plot) (1.19.5)\n",
            "Requirement already satisfied: kiwisolver>=1.0.1 in /usr/local/lib/python3.7/dist-packages (from matplotlib>=1.4.0->scikit-plot) (1.3.1)\n",
            "Requirement already satisfied: cycler>=0.10 in /usr/local/lib/python3.7/dist-packages (from matplotlib>=1.4.0->scikit-plot) (0.10.0)\n",
            "Requirement already satisfied: python-dateutil>=2.1 in /usr/local/lib/python3.7/dist-packages (from matplotlib>=1.4.0->scikit-plot) (2.8.1)\n",
            "Requirement already satisfied: pyparsing!=2.0.4,!=2.1.2,!=2.1.6,>=2.0.1 in /usr/local/lib/python3.7/dist-packages (from matplotlib>=1.4.0->scikit-plot) (2.4.7)\n",
            "Requirement already satisfied: six in /usr/local/lib/python3.7/dist-packages (from cycler>=0.10->matplotlib>=1.4.0->scikit-plot) (1.15.0)\n",
            "Installing collected packages: scikit-plot\n",
            "Successfully installed scikit-plot-0.3.7\n"
          ],
          "name": "stdout"
        }
      ]
    },
    {
      "cell_type": "code",
      "metadata": {
        "colab": {
          "base_uri": "https://localhost:8080/"
        },
        "id": "Rt8hGfiae_gH",
        "scrolled": true,
        "outputId": "23cb217f-bda5-4a7e-cbb7-6753d413be61"
      },
      "source": [
        "import nltk\n",
        "nltk.download(\"movie_reviews\")\n",
        "nltk.download('punkt')\n",
        "from nltk.corpus import movie_reviews as mov_rev\n",
        "from sklearn.feature_extraction.text import CountVectorizer, TfidfVectorizer, HashingVectorizer\n",
        "from nltk.probability import FreqDist\n",
        "from nltk.corpus import stopwords\n",
        "from nltk.tokenize import word_tokenize\n",
        "from collections import defaultdict\n",
        "nltk.download('stopwords')\n",
        "import string\n",
        "stop = stopwords.words('english')\n",
        "import numpy as np\n",
        "from sklearn.model_selection import train_test_split, cross_val_score, GridSearchCV\n",
        "from sklearn import svm\n",
        "from sklearn.metrics import accuracy_score, classification_report, confusion_matrix\n",
        "import scikitplot as skplt\n",
        "import matplotlib.pyplot as plt\n",
        "from sklearn.metrics import plot_confusion_matrix\n",
        "import seaborn as sns\n",
        "import warnings \n",
        "warnings.filterwarnings(\"ignore\")\n",
        "import pandas as pd\n",
        "from sklearn.naive_bayes import MultinomialNB\n",
        "from sklearn.metrics import accuracy_score\n",
        "from sklearn.ensemble import RandomForestClassifier\n",
        "from sklearn.metrics import accuracy_score, confusion_matrix, classification_report\n",
        "from xgboost import XGBClassifier\n",
        "from sklearn.linear_model import RidgeClassifier\n",
        "from nltk.stem import WordNetLemmatizer\n",
        "nltk.download('wordnet')"
      ],
      "execution_count": 2,
      "outputs": [
        {
          "output_type": "stream",
          "text": [
            "[nltk_data] Downloading package movie_reviews to /root/nltk_data...\n",
            "[nltk_data]   Unzipping corpora/movie_reviews.zip.\n",
            "[nltk_data] Downloading package punkt to /root/nltk_data...\n",
            "[nltk_data]   Unzipping tokenizers/punkt.zip.\n",
            "[nltk_data] Downloading package stopwords to /root/nltk_data...\n",
            "[nltk_data]   Unzipping corpora/stopwords.zip.\n",
            "[nltk_data] Downloading package wordnet to /root/nltk_data...\n",
            "[nltk_data]   Unzipping corpora/wordnet.zip.\n"
          ],
          "name": "stdout"
        },
        {
          "output_type": "execute_result",
          "data": {
            "text/plain": [
              "True"
            ]
          },
          "metadata": {
            "tags": []
          },
          "execution_count": 2
        }
      ]
    },
    {
      "cell_type": "code",
      "metadata": {
        "colab": {
          "base_uri": "https://localhost:8080/",
          "height": 433
        },
        "id": "SrBmDVLge_gb",
        "outputId": "fd06e0ec-b117-416f-eef0-fdab39e88ef8"
      },
      "source": [
        "# Part3\n",
        "# from google.colab import drive\n",
        "# drive.mount(\"/content/gdrive\")\n",
        "# Download data from Lab 2 folder on Canvas.\n",
        "part3_df = pd.read_csv(\"/content/gdrive/MyDrive/Part3_Dataset.csv\")\n",
        "part3_df"
      ],
      "execution_count": 4,
      "outputs": [
        {
          "output_type": "stream",
          "text": [
            "Mounted at /content/gdrive\n"
          ],
          "name": "stdout"
        },
        {
          "output_type": "execute_result",
          "data": {
            "text/html": [
              "<div>\n",
              "<style scoped>\n",
              "    .dataframe tbody tr th:only-of-type {\n",
              "        vertical-align: middle;\n",
              "    }\n",
              "\n",
              "    .dataframe tbody tr th {\n",
              "        vertical-align: top;\n",
              "    }\n",
              "\n",
              "    .dataframe thead th {\n",
              "        text-align: right;\n",
              "    }\n",
              "</style>\n",
              "<table border=\"1\" class=\"dataframe\">\n",
              "  <thead>\n",
              "    <tr style=\"text-align: right;\">\n",
              "      <th></th>\n",
              "      <th>review</th>\n",
              "      <th>sentiment</th>\n",
              "    </tr>\n",
              "  </thead>\n",
              "  <tbody>\n",
              "    <tr>\n",
              "      <th>0</th>\n",
              "      <td>One of the other reviewers has mentioned that ...</td>\n",
              "      <td>positive</td>\n",
              "    </tr>\n",
              "    <tr>\n",
              "      <th>1</th>\n",
              "      <td>A wonderful little production. &lt;br /&gt;&lt;br /&gt;The...</td>\n",
              "      <td>positive</td>\n",
              "    </tr>\n",
              "    <tr>\n",
              "      <th>2</th>\n",
              "      <td>I thought this was a wonderful way to spend ti...</td>\n",
              "      <td>positive</td>\n",
              "    </tr>\n",
              "    <tr>\n",
              "      <th>3</th>\n",
              "      <td>Basically there's a family where a little boy ...</td>\n",
              "      <td>negative</td>\n",
              "    </tr>\n",
              "    <tr>\n",
              "      <th>4</th>\n",
              "      <td>Petter Mattei's \"Love in the Time of Money\" is...</td>\n",
              "      <td>positive</td>\n",
              "    </tr>\n",
              "    <tr>\n",
              "      <th>...</th>\n",
              "      <td>...</td>\n",
              "      <td>...</td>\n",
              "    </tr>\n",
              "    <tr>\n",
              "      <th>49995</th>\n",
              "      <td>I thought this movie did a down right good job...</td>\n",
              "      <td>positive</td>\n",
              "    </tr>\n",
              "    <tr>\n",
              "      <th>49996</th>\n",
              "      <td>Bad plot, bad dialogue, bad acting, idiotic di...</td>\n",
              "      <td>negative</td>\n",
              "    </tr>\n",
              "    <tr>\n",
              "      <th>49997</th>\n",
              "      <td>I am a Catholic taught in parochial elementary...</td>\n",
              "      <td>negative</td>\n",
              "    </tr>\n",
              "    <tr>\n",
              "      <th>49998</th>\n",
              "      <td>I'm going to have to disagree with the previou...</td>\n",
              "      <td>negative</td>\n",
              "    </tr>\n",
              "    <tr>\n",
              "      <th>49999</th>\n",
              "      <td>No one expects the Star Trek movies to be high...</td>\n",
              "      <td>negative</td>\n",
              "    </tr>\n",
              "  </tbody>\n",
              "</table>\n",
              "<p>50000 rows × 2 columns</p>\n",
              "</div>"
            ],
            "text/plain": [
              "                                                  review sentiment\n",
              "0      One of the other reviewers has mentioned that ...  positive\n",
              "1      A wonderful little production. <br /><br />The...  positive\n",
              "2      I thought this was a wonderful way to spend ti...  positive\n",
              "3      Basically there's a family where a little boy ...  negative\n",
              "4      Petter Mattei's \"Love in the Time of Money\" is...  positive\n",
              "...                                                  ...       ...\n",
              "49995  I thought this movie did a down right good job...  positive\n",
              "49996  Bad plot, bad dialogue, bad acting, idiotic di...  negative\n",
              "49997  I am a Catholic taught in parochial elementary...  negative\n",
              "49998  I'm going to have to disagree with the previou...  negative\n",
              "49999  No one expects the Star Trek movies to be high...  negative\n",
              "\n",
              "[50000 rows x 2 columns]"
            ]
          },
          "metadata": {
            "tags": []
          },
          "execution_count": 4
        }
      ]
    },
    {
      "cell_type": "code",
      "metadata": {
        "colab": {
          "base_uri": "https://localhost:8080/",
          "height": 53
        },
        "id": "Kw2Szm1xe_gm",
        "outputId": "aaa3be93-2350-4b19-bc85-34a01f29b8a0"
      },
      "source": [
        "# Preprocessing the data\n",
        "lemmatizer = WordNetLemmatizer()\n",
        "def rem_stop_punctuations(sentence):\n",
        "    word_splt = word_tokenize(sentence)\n",
        "    nltk_words = list(stopwords.words('english'))\n",
        "    re_stop = [i for i in word_splt if i not in nltk_words]\n",
        "    re_punc = [i for i in re_stop if i not in string.punctuation]\n",
        "    lem_words = map(lemmatizer.lemmatize, re_punc)\n",
        "    return ' '.join(list(lem_words))\n",
        "\n",
        "part3_df[\"review\"] = part3_df.apply(lambda row: rem_stop_punctuations(row[\"review\"]), axis=1)\n",
        "\n",
        "\n",
        "\"\"\"\n",
        "Comments and Observations:\n",
        "1) Removing Stopwords\n",
        "2) Removing Punctuations\n",
        "3) Lemmatization returns the base or dictionary form of a word which is commonly known as lemma.\n",
        "   Lemmatization has better precision than porterstemmer.\n",
        "\n",
        "\"\"\""
      ],
      "execution_count": 5,
      "outputs": [
        {
          "output_type": "execute_result",
          "data": {
            "application/vnd.google.colaboratory.intrinsic+json": {
              "type": "string"
            },
            "text/plain": [
              "'\\nComments and Observations:\\n1) Removing Stopwords\\n2) Removing Punctuations\\n3) Lemmatization returns the base or dictionary form of a word which is commonly known as lemma.\\n   Lemmatization has better precision than porterstemmer.\\n\\n'"
            ]
          },
          "metadata": {
            "tags": []
          },
          "execution_count": 5
        }
      ]
    },
    {
      "cell_type": "code",
      "metadata": {
        "id": "wsBd1VM7e_gv"
      },
      "source": [
        "# Split the data into 80% training set and 20% test set.\n",
        "x_arr = np.array(part3_df[\"review\"].values.tolist())\n",
        "y_arr = np.array(part3_df[\"sentiment\"].values.tolist())\n",
        "\n",
        "train_x, test_x, train_y, test_y = train_test_split(x_arr,y_arr, test_size=0.2, random_state=1)"
      ],
      "execution_count": 6,
      "outputs": []
    },
    {
      "cell_type": "markdown",
      "metadata": {
        "id": "zZBk4aWXiD6A"
      },
      "source": [
        "# **Comments and Observations:**\n",
        "\n",
        "**Countvectorizer** - Convert a collection of text documents to a matrix of token counts\n",
        "\n",
        "**Tfidfvectorizer** - Convert a collection of raw documents to a matrix of TF-IDF features.\n",
        "\n",
        "  td-idf(w,d) = bow(w,d)*log(N/# documents in which word w appears)\n",
        "\n",
        "Unigram - ngram_range(1,1)\n",
        "  - One word sequence\n",
        "\n",
        "Bigram - ngram_range(1,2)\n",
        "  - Two word sequence\n",
        "  "
      ]
    },
    {
      "cell_type": "code",
      "metadata": {
        "colab": {
          "base_uri": "https://localhost:8080/"
        },
        "id": "VxY0WNdae_gy",
        "outputId": "6ea50a7d-40fb-45f8-b932-5da06696cb5e"
      },
      "source": [
        "#Predict the number of positive and negative reviews using various algorithms to increase the performance of the prediction of the sentiment expressed in the review.\n",
        "#Unigram\n",
        "vectorizer1 = CountVectorizer(analyzer='word',tokenizer=nltk.word_tokenize, ngram_range=(1, 1))\n",
        "count_unigram = vectorizer1.fit_transform(train_x)\n",
        "testx_trans_countuni = vectorizer1.transform(test_x)\n",
        "print(count_unigram.shape)"
      ],
      "execution_count": 7,
      "outputs": [
        {
          "output_type": "stream",
          "text": [
            "(40000, 134087)\n"
          ],
          "name": "stdout"
        }
      ]
    },
    {
      "cell_type": "code",
      "metadata": {
        "colab": {
          "base_uri": "https://localhost:8080/",
          "height": 503
        },
        "id": "nOwUwl561QcD",
        "outputId": "2f029c84-43f9-46ce-8e3a-798be7e07317"
      },
      "source": [
        "# Count Vectorizer Unigram\n",
        "clf = MultinomialNB(alpha=1.0)\n",
        "clf.fit(count_unigram, train_y)\n",
        "y_pred = clf.predict(testx_trans_countuni)\n",
        "print(\"Accuracy(CountVectorizer Unigram): \",accuracy_score(test_y,y_pred))\n",
        "confusion_matrix_nb = confusion_matrix(test_y,y_pred)\n",
        "skplt.metrics.plot_confusion_matrix(test_y,y_pred, normalize=False)\n",
        "#skplt.metrics.plot_confusion_matrix(test_y,y_pred, normalize=True)\n",
        "print( classification_report(test_y,y_pred))\n",
        "print('confusion_matrix: ', confusion_matrix_nb)\n"
      ],
      "execution_count": 9,
      "outputs": [
        {
          "output_type": "stream",
          "text": [
            "Accuracy(CountVectorizer Unigram):  0.8604\n",
            "              precision    recall  f1-score   support\n",
            "\n",
            "    negative       0.85      0.89      0.86      5044\n",
            "    positive       0.88      0.84      0.86      4956\n",
            "\n",
            "    accuracy                           0.86     10000\n",
            "   macro avg       0.86      0.86      0.86     10000\n",
            "weighted avg       0.86      0.86      0.86     10000\n",
            "\n",
            "confusion_matrix:  [[4464  580]\n",
            " [ 816 4140]]\n"
          ],
          "name": "stdout"
        },
        {
          "output_type": "display_data",
          "data": {
            "image/png": "[encoded data removed]",
            "text/plain": [
              "<Figure size 432x288 with 2 Axes>"
            ]
          },
          "metadata": {
            "tags": [],
            "needs_background": "light"
          }
        }
      ]
    },
    {
      "cell_type": "code",
      "metadata": {
        "colab": {
          "base_uri": "https://localhost:8080/",
          "height": 503
        },
        "id": "aqC5yCmblzKL",
        "outputId": "e97a8784-a507-4b56-cad2-289f6eff9ed0"
      },
      "source": [
        "clf_rf = RandomForestClassifier(max_depth=2, random_state=0)\n",
        "clf_rf.fit(count_unigram, train_y)\n",
        "pred_y = clf_rf.predict(testx_trans_countuni)\n",
        "print(\"Accuracy Score: \",accuracy_score(test_y,pred_y))\n",
        "confusion_matrix_nb = confusion_matrix(test_y,pred_y)\n",
        "skplt.metrics.plot_confusion_matrix(test_y,pred_y, normalize=False)\n",
        "#skplt.metrics.plot_confusion_matrix(test_y,y_pred, normalize=True)\n",
        "print( classification_report(test_y,pred_y))\n",
        "print('confusion_matrix: ', confusion_matrix_nb)"
      ],
      "execution_count": 10,
      "outputs": [
        {
          "output_type": "stream",
          "text": [
            "Accuracy Score:  0.7586\n",
            "              precision    recall  f1-score   support\n",
            "\n",
            "    negative       0.85      0.64      0.73      5044\n",
            "    positive       0.71      0.88      0.78      4956\n",
            "\n",
            "    accuracy                           0.76     10000\n",
            "   macro avg       0.78      0.76      0.76     10000\n",
            "weighted avg       0.78      0.76      0.76     10000\n",
            "\n",
            "confusion_matrix:  [[3216 1828]\n",
            " [ 586 4370]]\n"
          ],
          "name": "stdout"
        },
        {
          "output_type": "display_data",
          "data": {
            "image/png": "[encoded data removed]",
            "text/plain": [
              "<Figure size 432x288 with 2 Axes>"
            ]
          },
          "metadata": {
            "tags": [],
            "needs_background": "light"
          }
        }
      ]
    },
    {
      "cell_type": "code",
      "metadata": {
        "colab": {
          "base_uri": "https://localhost:8080/",
          "height": 503
        },
        "id": "rd_Fg_92nlb3",
        "outputId": "d12a4390-f2ed-455d-d401-8f179c90938f"
      },
      "source": [
        "clf_xgb = XGBClassifier(max_depth=5)\n",
        "clf_xgb.fit(count_unigram, train_y)\n",
        "pred_y = clf_xgb.predict(testx_trans_countuni)\n",
        "print(\"Accuracy Score: \",accuracy_score(test_y,pred_y))\n",
        "confusion_matrix_nb = confusion_matrix(test_y,pred_y)\n",
        "skplt.metrics.plot_confusion_matrix(test_y,pred_y, normalize=False)\n",
        "#skplt.metrics.plot_confusion_matrix(test_y,y_pred, normalize=True)\n",
        "print( classification_report(test_y,pred_y))\n",
        "print('confusion_matrix: ', confusion_matrix_nb)"
      ],
      "execution_count": 11,
      "outputs": [
        {
          "output_type": "stream",
          "text": [
            "Accuracy Score:  0.8243\n",
            "              precision    recall  f1-score   support\n",
            "\n",
            "    negative       0.87      0.77      0.82      5044\n",
            "    positive       0.79      0.88      0.83      4956\n",
            "\n",
            "    accuracy                           0.82     10000\n",
            "   macro avg       0.83      0.82      0.82     10000\n",
            "weighted avg       0.83      0.82      0.82     10000\n",
            "\n",
            "confusion_matrix:  [[3893 1151]\n",
            " [ 606 4350]]\n"
          ],
          "name": "stdout"
        },
        {
          "output_type": "display_data",
          "data": {
            "image/png": "[encoded data removed]",
            "text/plain": [
              "<Figure size 432x288 with 2 Axes>"
            ]
          },
          "metadata": {
            "tags": [],
            "needs_background": "light"
          }
        }
      ]
    },
    {
      "cell_type": "code",
      "metadata": {
        "colab": {
          "base_uri": "https://localhost:8080/",
          "height": 503
        },
        "id": "XmvJaT6fuBI0",
        "outputId": "9f781f9b-0712-4c65-da41-794881e9260c"
      },
      "source": [
        "clf_rdg1 = RidgeClassifier(alpha=1.0)\n",
        "clf_rdg1.fit(count_unigram, train_y)\n",
        "pred_y = clf_rdg1.predict(testx_trans_countuni)\n",
        "print(\"Accuracy Score: \",accuracy_score(test_y,pred_y))\n",
        "confusion_matrix_nb = confusion_matrix(test_y,pred_y)\n",
        "skplt.metrics.plot_confusion_matrix(test_y,pred_y, normalize=False)\n",
        "#skplt.metrics.plot_confusion_matrix(test_y,y_pred, normalize=True)\n",
        "print( classification_report(test_y,pred_y))\n",
        "print('confusion_matrix: ', confusion_matrix_nb)"
      ],
      "execution_count": 12,
      "outputs": [
        {
          "output_type": "stream",
          "text": [
            "Accuracy Score:  0.804\n",
            "              precision    recall  f1-score   support\n",
            "\n",
            "    negative       0.81      0.79      0.80      5044\n",
            "    positive       0.79      0.82      0.80      4956\n",
            "\n",
            "    accuracy                           0.80     10000\n",
            "   macro avg       0.80      0.80      0.80     10000\n",
            "weighted avg       0.80      0.80      0.80     10000\n",
            "\n",
            "confusion_matrix:  [[3995 1049]\n",
            " [ 911 4045]]\n"
          ],
          "name": "stdout"
        },
        {
          "output_type": "display_data",
          "data": {
            "image/png": "[encoded data removed]",
            "text/plain": [
              "<Figure size 432x288 with 2 Axes>"
            ]
          },
          "metadata": {
            "tags": [],
            "needs_background": "light"
          }
        }
      ]
    },
    {
      "cell_type": "code",
      "metadata": {
        "colab": {
          "base_uri": "https://localhost:8080/"
        },
        "id": "J0Msf0SDjd8s",
        "outputId": "ebfef198-c2a3-47a1-bbe2-5ee8b3162a29"
      },
      "source": [
        "#Bigram\n",
        "vectorizer2 = CountVectorizer(analyzer='word', ngram_range=(1, 2))\n",
        "count_bigram = vectorizer2.fit_transform(train_x)\n",
        "print(count_bigram.shape)\n",
        "testx_trans_countbi = vectorizer2.transform(test_x)"
      ],
      "execution_count": 13,
      "outputs": [
        {
          "output_type": "stream",
          "text": [
            "(40000, 2605128)\n"
          ],
          "name": "stdout"
        }
      ]
    },
    {
      "cell_type": "code",
      "metadata": {
        "colab": {
          "base_uri": "https://localhost:8080/",
          "height": 503
        },
        "id": "S8o3Tq6w24xc",
        "outputId": "de1efe78-120f-40bd-ceb7-1d31d54e066b"
      },
      "source": [
        "# Count Vectorizer Bigram\n",
        "clf2 = MultinomialNB(alpha=1.0)\n",
        "clf2.fit(count_bigram, train_y)\n",
        "y_pred = clf2.predict(testx_trans_countbi)\n",
        "print(\"Accuracy(CountVectorizer Bigram): \",accuracy_score(test_y,y_pred))\n",
        "confusion_matrix_nb = confusion_matrix(test_y,y_pred)\n",
        "skplt.metrics.plot_confusion_matrix(test_y,y_pred, normalize=False)\n",
        "print( classification_report(test_y,y_pred))\n",
        "#skplt.metrics.plot_confusion_matrix(test_y,y_pred, normalize=True)\n",
        "print('confusion_matrix: ', confusion_matrix_nb)"
      ],
      "execution_count": 14,
      "outputs": [
        {
          "output_type": "stream",
          "text": [
            "Accuracy(CountVectorizer Bigram):  0.8863\n",
            "              precision    recall  f1-score   support\n",
            "\n",
            "    negative       0.87      0.90      0.89      5044\n",
            "    positive       0.90      0.87      0.88      4956\n",
            "\n",
            "    accuracy                           0.89     10000\n",
            "   macro avg       0.89      0.89      0.89     10000\n",
            "weighted avg       0.89      0.89      0.89     10000\n",
            "\n",
            "confusion_matrix:  [[4559  485]\n",
            " [ 652 4304]]\n"
          ],
          "name": "stdout"
        },
        {
          "output_type": "display_data",
          "data": {
            "image/png": "[encoded data removed]",
            "text/plain": [
              "<Figure size 432x288 with 2 Axes>"
            ]
          },
          "metadata": {
            "tags": [],
            "needs_background": "light"
          }
        }
      ]
    },
    {
      "cell_type": "code",
      "metadata": {
        "colab": {
          "base_uri": "https://localhost:8080/",
          "height": 503
        },
        "id": "0suv_9_k6Jqj",
        "outputId": "7d129f1e-1762-42c2-ff41-aea8f11f9c15"
      },
      "source": [
        "clf_rf1 = RandomForestClassifier(max_depth=2, random_state=0)\n",
        "clf_rf1.fit(count_bigram, train_y)\n",
        "pred_y = clf_rf1.predict(testx_trans_countbi)\n",
        "print(\"Accuracy Score: \",accuracy_score(test_y,pred_y))\n",
        "confusion_matrix_nb = confusion_matrix(test_y,pred_y)\n",
        "skplt.metrics.plot_confusion_matrix(test_y,pred_y, normalize=False)\n",
        "#skplt.metrics.plot_confusion_matrix(test_y,y_pred, normalize=True)\n",
        "print( classification_report(test_y,pred_y))\n",
        "print('confusion_matrix: ', confusion_matrix_nb)"
      ],
      "execution_count": 15,
      "outputs": [
        {
          "output_type": "stream",
          "text": [
            "Accuracy Score:  0.6743\n",
            "              precision    recall  f1-score   support\n",
            "\n",
            "    negative       0.79      0.48      0.60      5044\n",
            "    positive       0.62      0.87      0.73      4956\n",
            "\n",
            "    accuracy                           0.67     10000\n",
            "   macro avg       0.71      0.68      0.66     10000\n",
            "weighted avg       0.71      0.67      0.66     10000\n",
            "\n",
            "confusion_matrix:  [[2430 2614]\n",
            " [ 643 4313]]\n"
          ],
          "name": "stdout"
        },
        {
          "output_type": "display_data",
          "data": {
            "image/png": "[encoded data removed]",
            "text/plain": [
              "<Figure size 432x288 with 2 Axes>"
            ]
          },
          "metadata": {
            "tags": [],
            "needs_background": "light"
          }
        }
      ]
    },
    {
      "cell_type": "code",
      "metadata": {
        "colab": {
          "base_uri": "https://localhost:8080/",
          "height": 503
        },
        "id": "mFQlTtp2pNZF",
        "outputId": "2ad8802e-de39-4e54-f256-3fc7e8d3763f"
      },
      "source": [
        "clf_xgb1 = XGBClassifier(max_depth=5)\n",
        "clf_xgb1.fit(count_bigram, train_y)\n",
        "pred_y = clf_xgb1.predict(testx_trans_countbi)\n",
        "print(\"Accuracy Score: \",accuracy_score(test_y,pred_y))\n",
        "confusion_matrix_nb = confusion_matrix(test_y,pred_y)\n",
        "skplt.metrics.plot_confusion_matrix(test_y,pred_y, normalize=False)\n",
        "#skplt.metrics.plot_confusion_matrix(test_y,y_pred, normalize=True)\n",
        "print( classification_report(test_y,pred_y))\n",
        "print('confusion_matrix: ', confusion_matrix_nb)"
      ],
      "execution_count": 16,
      "outputs": [
        {
          "output_type": "stream",
          "text": [
            "Accuracy Score:  0.8232\n",
            "              precision    recall  f1-score   support\n",
            "\n",
            "    negative       0.86      0.77      0.81      5044\n",
            "    positive       0.79      0.88      0.83      4956\n",
            "\n",
            "    accuracy                           0.82     10000\n",
            "   macro avg       0.83      0.82      0.82     10000\n",
            "weighted avg       0.83      0.82      0.82     10000\n",
            "\n",
            "confusion_matrix:  [[3894 1150]\n",
            " [ 618 4338]]\n"
          ],
          "name": "stdout"
        },
        {
          "output_type": "display_data",
          "data": {
            "image/png": "[encoded data removed]",
            "text/plain": [
              "<Figure size 432x288 with 2 Axes>"
            ]
          },
          "metadata": {
            "tags": [],
            "needs_background": "light"
          }
        }
      ]
    },
    {
      "cell_type": "code",
      "metadata": {
        "colab": {
          "base_uri": "https://localhost:8080/",
          "height": 503
        },
        "id": "4wfBcXP_tZcM",
        "outputId": "6c8ac726-5912-43b5-82a9-58d5111ab302"
      },
      "source": [
        "clf_rdg = RidgeClassifier(alpha=1.0)\n",
        "clf_rdg.fit(count_bigram, train_y)\n",
        "pred_y = clf_rdg.predict(testx_trans_countbi)\n",
        "print(\"Accuracy Score: \",accuracy_score(test_y,pred_y))\n",
        "confusion_matrix_nb = confusion_matrix(test_y,pred_y)\n",
        "skplt.metrics.plot_confusion_matrix(test_y,pred_y, normalize=False)\n",
        "#skplt.metrics.plot_confusion_matrix(test_y,y_pred, normalize=True)\n",
        "print( classification_report(test_y,pred_y))\n",
        "print('confusion_matrix: ', confusion_matrix_nb)"
      ],
      "execution_count": 17,
      "outputs": [
        {
          "output_type": "stream",
          "text": [
            "Accuracy Score:  0.8852\n",
            "              precision    recall  f1-score   support\n",
            "\n",
            "    negative       0.89      0.88      0.89      5044\n",
            "    positive       0.88      0.89      0.89      4956\n",
            "\n",
            "    accuracy                           0.89     10000\n",
            "   macro avg       0.89      0.89      0.89     10000\n",
            "weighted avg       0.89      0.89      0.89     10000\n",
            "\n",
            "confusion_matrix:  [[4423  621]\n",
            " [ 527 4429]]\n"
          ],
          "name": "stdout"
        },
        {
          "output_type": "display_data",
          "data": {
            "image/png": "[encoded data removed]",
            "text/plain": [
              "<Figure size 432x288 with 2 Axes>"
            ]
          },
          "metadata": {
            "tags": [],
            "needs_background": "light"
          }
        }
      ]
    },
    {
      "cell_type": "code",
      "metadata": {
        "colab": {
          "base_uri": "https://localhost:8080/"
        },
        "id": "S7vuvJmujxCp",
        "outputId": "a42c102e-7489-4911-ba75-1e05aa7f29ca"
      },
      "source": [
        "#Unigram\n",
        "vectorizer3 = TfidfVectorizer(ngram_range=(1, 1))\n",
        "tfidf_unigram = vectorizer3.fit_transform(train_x)\n",
        "print(tfidf_unigram.shape)\n",
        "testx_trans_tfidfuni = vectorizer3.transform(test_x)"
      ],
      "execution_count": 18,
      "outputs": [
        {
          "output_type": "stream",
          "text": [
            "(40000, 88799)\n"
          ],
          "name": "stdout"
        }
      ]
    },
    {
      "cell_type": "code",
      "metadata": {
        "colab": {
          "base_uri": "https://localhost:8080/",
          "height": 503
        },
        "id": "-FkMG4M1F82e",
        "outputId": "8fbf6ade-cd4f-47cb-c928-6ce1e588fd30"
      },
      "source": [
        "clf_rdg2 = RidgeClassifier(alpha=1.0)\n",
        "clf_rdg2.fit(tfidf_unigram, train_y)\n",
        "pred_y = clf_rdg2.predict(testx_trans_tfidfuni)\n",
        "print(\"Accuracy Score: \",accuracy_score(test_y,pred_y))\n",
        "confusion_matrix_nb = confusion_matrix(test_y,pred_y)\n",
        "skplt.metrics.plot_confusion_matrix(test_y,pred_y, normalize=False)\n",
        "print( classification_report(test_y,pred_y))\n",
        "#skplt.metrics.plot_confusion_matrix(test_y,y_pred, normalize=True)\n",
        "print('confusion_matrix: ', confusion_matrix_nb)"
      ],
      "execution_count": 19,
      "outputs": [
        {
          "output_type": "stream",
          "text": [
            "Accuracy Score:  0.8944\n",
            "              precision    recall  f1-score   support\n",
            "\n",
            "    negative       0.91      0.88      0.89      5044\n",
            "    positive       0.88      0.91      0.89      4956\n",
            "\n",
            "    accuracy                           0.89     10000\n",
            "   macro avg       0.89      0.89      0.89     10000\n",
            "weighted avg       0.89      0.89      0.89     10000\n",
            "\n",
            "confusion_matrix:  [[4452  592]\n",
            " [ 464 4492]]\n"
          ],
          "name": "stdout"
        },
        {
          "output_type": "display_data",
          "data": {
            "image/png": "[encoded data removed]",
            "text/plain": [
              "<Figure size 432x288 with 2 Axes>"
            ]
          },
          "metadata": {
            "tags": [],
            "needs_background": "light"
          }
        }
      ]
    },
    {
      "cell_type": "code",
      "metadata": {
        "colab": {
          "base_uri": "https://localhost:8080/",
          "height": 503
        },
        "id": "8x65ov6MkL5n",
        "outputId": "81900e79-3787-4157-86d6-f2c6a18553e9"
      },
      "source": [
        "clf_rf2 = RandomForestClassifier(max_depth=2, random_state=0)\n",
        "clf_rf2.fit(tfidf_unigram, train_y)\n",
        "pred_y = clf_rf2.predict(testx_trans_tfidfuni)\n",
        "print(\"Accuracy Score: \",accuracy_score(test_y,pred_y))\n",
        "confusion_matrix_nb = confusion_matrix(test_y,pred_y)\n",
        "skplt.metrics.plot_confusion_matrix(test_y,pred_y, normalize=False)\n",
        "#skplt.metrics.plot_confusion_matrix(test_y,y_pred, normalize=True)\n",
        "print( classification_report(test_y,pred_y))\n",
        "print('confusion_matrix: ', confusion_matrix_nb)"
      ],
      "execution_count": 20,
      "outputs": [
        {
          "output_type": "stream",
          "text": [
            "Accuracy Score:  0.7559\n",
            "              precision    recall  f1-score   support\n",
            "\n",
            "    negative       0.82      0.66      0.73      5044\n",
            "    positive       0.71      0.85      0.78      4956\n",
            "\n",
            "    accuracy                           0.76     10000\n",
            "   macro avg       0.77      0.76      0.75     10000\n",
            "weighted avg       0.77      0.76      0.75     10000\n",
            "\n",
            "confusion_matrix:  [[3337 1707]\n",
            " [ 734 4222]]\n"
          ],
          "name": "stdout"
        },
        {
          "output_type": "display_data",
          "data": {
            "image/png": "[encoded data removed]",
            "text/plain": [
              "<Figure size 432x288 with 2 Axes>"
            ]
          },
          "metadata": {
            "tags": [],
            "needs_background": "light"
          }
        }
      ]
    },
    {
      "cell_type": "code",
      "metadata": {
        "colab": {
          "base_uri": "https://localhost:8080/",
          "height": 503
        },
        "id": "hp6Uxg_22mi-",
        "outputId": "f16c8188-c4e9-4b06-c5a4-c266232ef6be"
      },
      "source": [
        "# TfIdf Vectorizer Unigram\n",
        "clf3 = MultinomialNB(alpha=1.0)\n",
        "clf3.fit(tfidf_unigram, train_y)\n",
        "y_pred = clf3.predict(testx_trans_tfidfuni)\n",
        "print(\"Accuracy(TfIdfVectorizer Unigram): \",accuracy_score(test_y,y_pred))\n",
        "confusion_matrix_nb = confusion_matrix(test_y,y_pred)\n",
        "skplt.metrics.plot_confusion_matrix(test_y,y_pred, normalize=False)\n",
        "#skplt.metrics.plot_confusion_matrix(test_y,y_pred, normalize=True)\n",
        "print( classification_report(test_y,y_pred))\n",
        "print('confusion_matrix: ', confusion_matrix_nb)"
      ],
      "execution_count": 21,
      "outputs": [
        {
          "output_type": "stream",
          "text": [
            "Accuracy(TfIdfVectorizer Unigram):  0.8674\n",
            "              precision    recall  f1-score   support\n",
            "\n",
            "    negative       0.86      0.88      0.87      5044\n",
            "    positive       0.88      0.85      0.86      4956\n",
            "\n",
            "    accuracy                           0.87     10000\n",
            "   macro avg       0.87      0.87      0.87     10000\n",
            "weighted avg       0.87      0.87      0.87     10000\n",
            "\n",
            "confusion_matrix:  [[4453  591]\n",
            " [ 735 4221]]\n"
          ],
          "name": "stdout"
        },
        {
          "output_type": "display_data",
          "data": {
            "image/png": "[encoded data removed]",
            "text/plain": [
              "<Figure size 432x288 with 2 Axes>"
            ]
          },
          "metadata": {
            "tags": [],
            "needs_background": "light"
          }
        }
      ]
    },
    {
      "cell_type": "code",
      "metadata": {
        "colab": {
          "base_uri": "https://localhost:8080/"
        },
        "id": "AyVcUiB_j-ys",
        "outputId": "9f844daf-4958-46e3-a6df-5c21f7a8c4da"
      },
      "source": [
        "#Bigram\n",
        "vectorizer4 = TfidfVectorizer(ngram_range=(1, 2))\n",
        "tfidf_bigram = vectorizer4.fit_transform(train_x)\n",
        "print(tfidf_bigram.shape)\n",
        "testx_trans_tfidfbi = vectorizer4.transform(test_x)"
      ],
      "execution_count": 22,
      "outputs": [
        {
          "output_type": "stream",
          "text": [
            "(40000, 2605128)\n"
          ],
          "name": "stdout"
        }
      ]
    },
    {
      "cell_type": "code",
      "metadata": {
        "colab": {
          "base_uri": "https://localhost:8080/",
          "height": 503
        },
        "id": "NjEwhTHq3Fp6",
        "outputId": "ef57f896-5ac7-4cea-9a54-444a87903471"
      },
      "source": [
        "# TfIdf Vectorizer Bigram\n",
        "# Preferred Algorithm\n",
        "clf4 = MultinomialNB(alpha = 1.0)\n",
        "clf4.fit(tfidf_bigram, train_y)\n",
        "y_pred = clf4.predict(testx_trans_tfidfbi)\n",
        "print(\"Accuracy(TfIdfVectorizer Bigram): \",accuracy_score(test_y,y_pred))\n",
        "confusion_matrix_nb = confusion_matrix(test_y,y_pred)\n",
        "skplt.metrics.plot_confusion_matrix(test_y,y_pred, normalize=False)\n",
        "#skplt.metrics.plot_confusion_matrix(test_y,y_pred, normalize=True)\n",
        "print( classification_report(test_y,y_pred))\n",
        "print('confusion_matrix: ', confusion_matrix_nb)\n"
      ],
      "execution_count": 23,
      "outputs": [
        {
          "output_type": "stream",
          "text": [
            "Accuracy(TfIdfVectorizer Bigram):  0.8917\n",
            "              precision    recall  f1-score   support\n",
            "\n",
            "    negative       0.88      0.90      0.89      5044\n",
            "    positive       0.90      0.88      0.89      4956\n",
            "\n",
            "    accuracy                           0.89     10000\n",
            "   macro avg       0.89      0.89      0.89     10000\n",
            "weighted avg       0.89      0.89      0.89     10000\n",
            "\n",
            "confusion_matrix:  [[4557  487]\n",
            " [ 596 4360]]\n"
          ],
          "name": "stdout"
        },
        {
          "output_type": "display_data",
          "data": {
            "image/png": "[encoded data removed]",
            "text/plain": [
              "<Figure size 432x288 with 2 Axes>"
            ]
          },
          "metadata": {
            "tags": [],
            "needs_background": "light"
          }
        }
      ]
    },
    {
      "cell_type": "code",
      "metadata": {
        "colab": {
          "base_uri": "https://localhost:8080/",
          "height": 503
        },
        "id": "sYMeFMJnmEGK",
        "outputId": "e91fe3a1-6576-46d9-ff7f-b607f0beef36"
      },
      "source": [
        "clf_rf3 = RandomForestClassifier(max_depth=2, random_state=0)\n",
        "clf_rf3.fit(tfidf_bigram, train_y)\n",
        "pred_y = clf_rf3.predict(testx_trans_tfidfbi)\n",
        "print(\"Accuracy Score: \",accuracy_score(test_y,pred_y))\n",
        "confusion_matrix_nb = confusion_matrix(test_y,pred_y)\n",
        "skplt.metrics.plot_confusion_matrix(test_y,pred_y, normalize=False)\n",
        "#skplt.metrics.plot_confusion_matrix(test_y,y_pred, normalize=True)\n",
        "print( classification_report(test_y,pred_y))\n",
        "print('confusion_matrix: ', confusion_matrix_nb)"
      ],
      "execution_count": 24,
      "outputs": [
        {
          "output_type": "stream",
          "text": [
            "Accuracy Score:  0.6768\n",
            "              precision    recall  f1-score   support\n",
            "\n",
            "    negative       0.77      0.52      0.62      5044\n",
            "    positive       0.63      0.84      0.72      4956\n",
            "\n",
            "    accuracy                           0.68     10000\n",
            "   macro avg       0.70      0.68      0.67     10000\n",
            "weighted avg       0.70      0.68      0.67     10000\n",
            "\n",
            "confusion_matrix:  [[2605 2439]\n",
            " [ 793 4163]]\n"
          ],
          "name": "stdout"
        },
        {
          "output_type": "display_data",
          "data": {
            "image/png": "[encoded data removed]",
            "text/plain": [
              "<Figure size 432x288 with 2 Axes>"
            ]
          },
          "metadata": {
            "tags": [],
            "needs_background": "light"
          }
        }
      ]
    },
    {
      "cell_type": "code",
      "metadata": {
        "colab": {
          "base_uri": "https://localhost:8080/",
          "height": 521
        },
        "id": "BX2C5LkRGXvb",
        "outputId": "ea680634-6d20-42b8-ae1a-93a6762cf502"
      },
      "source": [
        "clf_rdg3 = RidgeClassifier(alpha=1.0)\n",
        "clf_rdg3.fit(tfidf_unigram, train_y)\n",
        "pred_y = clf_rdg3.predict(testx_trans_tfidfuni)\n",
        "print(\"Accuracy Score: \",accuracy_score(test_y,pred_y))\n",
        "confusion_matrix_nb = confusion_matrix(test_y,pred_y)\n",
        "skplt.metrics.plot_confusion_matrix(test_y,pred_y, normalize=False)\n",
        "#skplt.metrics.plot_confusion_matrix(test_y,y_pred, normalize=True)\n",
        "print( classification_report(test_y,pred_y))\n",
        "print('confusion_matrix: ', confusion_matrix_nb)\n",
        "\n",
        "\"\"\"\n",
        "Comments and Observations:\n",
        "Preferred algorith with better accuracy\n",
        "\n",
        "\"\"\""
      ],
      "execution_count": 25,
      "outputs": [
        {
          "output_type": "stream",
          "text": [
            "Accuracy Score:  0.8944\n",
            "              precision    recall  f1-score   support\n",
            "\n",
            "    negative       0.91      0.88      0.89      5044\n",
            "    positive       0.88      0.91      0.89      4956\n",
            "\n",
            "    accuracy                           0.89     10000\n",
            "   macro avg       0.89      0.89      0.89     10000\n",
            "weighted avg       0.89      0.89      0.89     10000\n",
            "\n",
            "confusion_matrix:  [[4452  592]\n",
            " [ 464 4492]]\n"
          ],
          "name": "stdout"
        },
        {
          "output_type": "execute_result",
          "data": {
            "application/vnd.google.colaboratory.intrinsic+json": {
              "type": "string"
            },
            "text/plain": [
              "'\\nComments and Observations:\\nPreferred algorith with better accuracy\\n\\n'"
            ]
          },
          "metadata": {
            "tags": []
          },
          "execution_count": 25
        },
        {
          "output_type": "display_data",
          "data": {
            "image/png": "[encoded data removed]",
            "text/plain": [
              "<Figure size 432x288 with 2 Axes>"
            ]
          },
          "metadata": {
            "tags": [],
            "needs_background": "light"
          }
        }
      ]
    },
    {
      "cell_type": "code",
      "metadata": {
        "colab": {
          "base_uri": "https://localhost:8080/"
        },
        "id": "Zn3_FD9jIDs1",
        "outputId": "b5040bd4-a814-4a4f-8e04-b6f67be2753f"
      },
      "source": [
        "vectorizerh = HashingVectorizer(norm = None, n_features = 2)\n",
        "hgram = vectorizerh.fit_transform(train_x)\n",
        "testx_trans_hgram = vectorizerh.transform(test_x)\n",
        "print(hgram.shape)"
      ],
      "execution_count": 26,
      "outputs": [
        {
          "output_type": "stream",
          "text": [
            "(40000, 2)\n"
          ],
          "name": "stdout"
        }
      ]
    },
    {
      "cell_type": "code",
      "metadata": {
        "colab": {
          "base_uri": "https://localhost:8080/",
          "height": 521
        },
        "id": "zuYRv29RI06t",
        "outputId": "02ef91dd-3736-4d48-ba2b-7c0a3d108d0c"
      },
      "source": [
        "clf_rdgh = RidgeClassifier(alpha=1.0)\n",
        "clf_rdgh.fit(hgram, train_y)\n",
        "pred_y = clf_rdgh.predict(testx_trans_hgram)\n",
        "print(\"Accuracy Score: \",accuracy_score(test_y,pred_y))\n",
        "confusion_matrix_nb = confusion_matrix(test_y,pred_y)\n",
        "skplt.metrics.plot_confusion_matrix(test_y,pred_y, normalize=False)\n",
        "print( classification_report(test_y,pred_y))\n",
        "#skplt.metrics.plot_confusion_matrix(test_y,y_pred, normalize=True)\n",
        "print('confusion_matrix: ', confusion_matrix_nb)\n",
        "\n",
        "\"\"\"\n",
        "Comments and Observations:\n",
        "Preferred algorith with better accuracy\n",
        "\n",
        "\"\"\""
      ],
      "execution_count": 27,
      "outputs": [
        {
          "output_type": "stream",
          "text": [
            "Accuracy Score:  0.543\n",
            "              precision    recall  f1-score   support\n",
            "\n",
            "    negative       0.54      0.60      0.57      5044\n",
            "    positive       0.54      0.48      0.51      4956\n",
            "\n",
            "    accuracy                           0.54     10000\n",
            "   macro avg       0.54      0.54      0.54     10000\n",
            "weighted avg       0.54      0.54      0.54     10000\n",
            "\n",
            "confusion_matrix:  [[3044 2000]\n",
            " [2570 2386]]\n"
          ],
          "name": "stdout"
        },
        {
          "output_type": "execute_result",
          "data": {
            "application/vnd.google.colaboratory.intrinsic+json": {
              "type": "string"
            },
            "text/plain": [
              "'\\nComments and Observations:\\nPreferred algorith with better accuracy\\n\\n'"
            ]
          },
          "metadata": {
            "tags": []
          },
          "execution_count": 27
        },
        {
          "output_type": "display_data",
          "data": {
            "image/png": "[encoded data removed]",
            "text/plain": [
              "<Figure size 432x288 with 2 Axes>"
            ]
          },
          "metadata": {
            "tags": [],
            "needs_background": "light"
          }
        }
      ]
    },
    {
      "cell_type": "markdown",
      "metadata": {
        "id": "pqtPNWaQ6S2Y"
      },
      "source": [
        "**Comments and Observations:**\n",
        "\n",
        "There are several wordembedding techniques like CountVectorizer, TfIDfVectorizer, Hashing Vectorizer, Word2Vec etc., I've tried few word embedding techniques with n_grams.\n",
        "\n",
        "Among which, Bigrams with TfIDFVectorizer seems to provide better accuracy with the Classification technique being used as RidgeClassifier(89.44%). Multinomial NaiveBayes classification also provides an accuracy of 89%."
      ]
    }
  ]
}
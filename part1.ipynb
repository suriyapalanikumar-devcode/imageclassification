{
 "cells": [
  {
   "cell_type": "code",
   "execution_count": 1,
   "metadata": {},
   "outputs": [],
   "source": [
    "#Part 1\n",
    "#Importing headers\n",
    "import pandas as pd\n",
    "import numpy as np\n",
    "from sklearn.model_selection import train_test_split"
   ]
  },
  {
   "cell_type": "code",
   "execution_count": 2,
   "metadata": {},
   "outputs": [
    {
     "data": {
      "text/html": [
       "<div>\n",
       "<style scoped>\n",
       "    .dataframe tbody tr th:only-of-type {\n",
       "        vertical-align: middle;\n",
       "    }\n",
       "\n",
       "    .dataframe tbody tr th {\n",
       "        vertical-align: top;\n",
       "    }\n",
       "\n",
       "    .dataframe thead th {\n",
       "        text-align: right;\n",
       "    }\n",
       "</style>\n",
       "<table border=\"1\" class=\"dataframe\">\n",
       "  <thead>\n",
       "    <tr style=\"text-align: right;\">\n",
       "      <th></th>\n",
       "      <th>movie_id</th>\n",
       "      <th>movie_name</th>\n",
       "      <th>genre</th>\n",
       "    </tr>\n",
       "  </thead>\n",
       "  <tbody>\n",
       "    <tr>\n",
       "      <th>0</th>\n",
       "      <td>1</td>\n",
       "      <td>Toy Story (1995)</td>\n",
       "      <td>Animation|Children's|Comedy</td>\n",
       "    </tr>\n",
       "    <tr>\n",
       "      <th>1</th>\n",
       "      <td>2</td>\n",
       "      <td>Jumanji (1995)</td>\n",
       "      <td>Adventure|Children's|Fantasy</td>\n",
       "    </tr>\n",
       "    <tr>\n",
       "      <th>2</th>\n",
       "      <td>3</td>\n",
       "      <td>Grumpier Old Men (1995)</td>\n",
       "      <td>Comedy|Romance</td>\n",
       "    </tr>\n",
       "    <tr>\n",
       "      <th>3</th>\n",
       "      <td>4</td>\n",
       "      <td>Waiting to Exhale (1995)</td>\n",
       "      <td>Comedy|Drama</td>\n",
       "    </tr>\n",
       "    <tr>\n",
       "      <th>4</th>\n",
       "      <td>5</td>\n",
       "      <td>Father of the Bride Part II (1995)</td>\n",
       "      <td>Comedy</td>\n",
       "    </tr>\n",
       "    <tr>\n",
       "      <th>5</th>\n",
       "      <td>6</td>\n",
       "      <td>Heat (1995)</td>\n",
       "      <td>Action|Crime|Thriller</td>\n",
       "    </tr>\n",
       "    <tr>\n",
       "      <th>6</th>\n",
       "      <td>7</td>\n",
       "      <td>Sabrina (1995)</td>\n",
       "      <td>Comedy|Romance</td>\n",
       "    </tr>\n",
       "    <tr>\n",
       "      <th>7</th>\n",
       "      <td>8</td>\n",
       "      <td>Tom and Huck (1995)</td>\n",
       "      <td>Adventure|Children's</td>\n",
       "    </tr>\n",
       "    <tr>\n",
       "      <th>8</th>\n",
       "      <td>9</td>\n",
       "      <td>Sudden Death (1995)</td>\n",
       "      <td>Action</td>\n",
       "    </tr>\n",
       "    <tr>\n",
       "      <th>9</th>\n",
       "      <td>10</td>\n",
       "      <td>GoldenEye (1995)</td>\n",
       "      <td>Action|Adventure|Thriller</td>\n",
       "    </tr>\n",
       "  </tbody>\n",
       "</table>\n",
       "</div>"
      ],
      "text/plain": [
       "   movie_id                          movie_name                         genre\n",
       "0         1                    Toy Story (1995)   Animation|Children's|Comedy\n",
       "1         2                      Jumanji (1995)  Adventure|Children's|Fantasy\n",
       "2         3             Grumpier Old Men (1995)                Comedy|Romance\n",
       "3         4            Waiting to Exhale (1995)                  Comedy|Drama\n",
       "4         5  Father of the Bride Part II (1995)                        Comedy\n",
       "5         6                         Heat (1995)         Action|Crime|Thriller\n",
       "6         7                      Sabrina (1995)                Comedy|Romance\n",
       "7         8                 Tom and Huck (1995)          Adventure|Children's\n",
       "8         9                 Sudden Death (1995)                        Action\n",
       "9        10                    GoldenEye (1995)     Action|Adventure|Thriller"
      ]
     },
     "execution_count": 2,
     "metadata": {},
     "output_type": "execute_result"
    }
   ],
   "source": [
    "movie_df = pd.read_csv(\"ml-1m/ml-1m/movies.dat\", delimiter=\"::\", names=[\"movie_id\",\"movie_name\",\"genre\"],engine=\"python\")\n",
    "movie_df.head(10)"
   ]
  },
  {
   "cell_type": "code",
   "execution_count": 3,
   "metadata": {},
   "outputs": [
    {
     "data": {
      "text/html": [
       "<div>\n",
       "<style scoped>\n",
       "    .dataframe tbody tr th:only-of-type {\n",
       "        vertical-align: middle;\n",
       "    }\n",
       "\n",
       "    .dataframe tbody tr th {\n",
       "        vertical-align: top;\n",
       "    }\n",
       "\n",
       "    .dataframe thead th {\n",
       "        text-align: right;\n",
       "    }\n",
       "</style>\n",
       "<table border=\"1\" class=\"dataframe\">\n",
       "  <thead>\n",
       "    <tr style=\"text-align: right;\">\n",
       "      <th></th>\n",
       "      <th>user_id</th>\n",
       "      <th>movie_id</th>\n",
       "      <th>ratings</th>\n",
       "      <th>time</th>\n",
       "    </tr>\n",
       "  </thead>\n",
       "  <tbody>\n",
       "    <tr>\n",
       "      <th>0</th>\n",
       "      <td>1</td>\n",
       "      <td>1193</td>\n",
       "      <td>5</td>\n",
       "      <td>978300760</td>\n",
       "    </tr>\n",
       "    <tr>\n",
       "      <th>1</th>\n",
       "      <td>1</td>\n",
       "      <td>661</td>\n",
       "      <td>3</td>\n",
       "      <td>978302109</td>\n",
       "    </tr>\n",
       "    <tr>\n",
       "      <th>2</th>\n",
       "      <td>1</td>\n",
       "      <td>914</td>\n",
       "      <td>3</td>\n",
       "      <td>978301968</td>\n",
       "    </tr>\n",
       "    <tr>\n",
       "      <th>3</th>\n",
       "      <td>1</td>\n",
       "      <td>3408</td>\n",
       "      <td>4</td>\n",
       "      <td>978300275</td>\n",
       "    </tr>\n",
       "    <tr>\n",
       "      <th>4</th>\n",
       "      <td>1</td>\n",
       "      <td>2355</td>\n",
       "      <td>5</td>\n",
       "      <td>978824291</td>\n",
       "    </tr>\n",
       "    <tr>\n",
       "      <th>...</th>\n",
       "      <td>...</td>\n",
       "      <td>...</td>\n",
       "      <td>...</td>\n",
       "      <td>...</td>\n",
       "    </tr>\n",
       "    <tr>\n",
       "      <th>1000204</th>\n",
       "      <td>6040</td>\n",
       "      <td>1091</td>\n",
       "      <td>1</td>\n",
       "      <td>956716541</td>\n",
       "    </tr>\n",
       "    <tr>\n",
       "      <th>1000205</th>\n",
       "      <td>6040</td>\n",
       "      <td>1094</td>\n",
       "      <td>5</td>\n",
       "      <td>956704887</td>\n",
       "    </tr>\n",
       "    <tr>\n",
       "      <th>1000206</th>\n",
       "      <td>6040</td>\n",
       "      <td>562</td>\n",
       "      <td>5</td>\n",
       "      <td>956704746</td>\n",
       "    </tr>\n",
       "    <tr>\n",
       "      <th>1000207</th>\n",
       "      <td>6040</td>\n",
       "      <td>1096</td>\n",
       "      <td>4</td>\n",
       "      <td>956715648</td>\n",
       "    </tr>\n",
       "    <tr>\n",
       "      <th>1000208</th>\n",
       "      <td>6040</td>\n",
       "      <td>1097</td>\n",
       "      <td>4</td>\n",
       "      <td>956715569</td>\n",
       "    </tr>\n",
       "  </tbody>\n",
       "</table>\n",
       "<p>1000209 rows × 4 columns</p>\n",
       "</div>"
      ],
      "text/plain": [
       "         user_id  movie_id  ratings       time\n",
       "0              1      1193        5  978300760\n",
       "1              1       661        3  978302109\n",
       "2              1       914        3  978301968\n",
       "3              1      3408        4  978300275\n",
       "4              1      2355        5  978824291\n",
       "...          ...       ...      ...        ...\n",
       "1000204     6040      1091        1  956716541\n",
       "1000205     6040      1094        5  956704887\n",
       "1000206     6040       562        5  956704746\n",
       "1000207     6040      1096        4  956715648\n",
       "1000208     6040      1097        4  956715569\n",
       "\n",
       "[1000209 rows x 4 columns]"
      ]
     },
     "execution_count": 3,
     "metadata": {},
     "output_type": "execute_result"
    }
   ],
   "source": [
    "ratings_df = pd.read_csv(\"ml-1m/ml-1m/ratings.dat\", delimiter=\"::\", names=[\"user_id\",\"movie_id\",\"ratings\",\"time\"],engine=\"python\")\n",
    "ratings_df"
   ]
  },
  {
   "cell_type": "code",
   "execution_count": 4,
   "metadata": {},
   "outputs": [
    {
     "name": "stdout",
     "output_type": "stream",
     "text": [
      "m*u matrix: \n",
      "[[5. 0. 0. ... 0. 0. 3.]\n",
      " [0. 0. 0. ... 0. 0. 0.]\n",
      " [0. 0. 0. ... 0. 0. 0.]\n",
      " ...\n",
      " [0. 0. 0. ... 0. 0. 0.]\n",
      " [0. 0. 0. ... 0. 0. 0.]\n",
      " [0. 0. 0. ... 0. 0. 0.]]\n"
     ]
    },
    {
     "data": {
      "text/plain": [
       "'\\nComments and Observations:\\n\\n1) Creating a dummy numpy array with the shape of maximum value movie_id and user_id\\n2) Sorting the dataframe based in user id and movie id\\n3) Since movie id and user ids start from 1, making it in compatible with index(By subtracting 1).\\n4) Filling the matrix index with ratings\\n\\n'"
      ]
     },
     "execution_count": 4,
     "metadata": {},
     "output_type": "execute_result"
    }
   ],
   "source": [
    "# 1. Create m x u matrix with movies as row and users as column. \n",
    "shape1 = (max(ratings_df[\"movie_id\"]), max(ratings_df[\"user_id\"]))\n",
    "mu_matrix = np.ndarray(shape = shape1)  \n",
    "#Sorting the dataframe\n",
    "mu_matrix_df = ratings_df.sort_values([\"user_id\",\"movie_id\"], ascending=[True, True]).reset_index(drop=True)\n",
    "mu_matrix_df[\"user_id\"] = mu_matrix_df[\"user_id\"]-1\n",
    "mu_matrix_df[\"movie_id\"] = mu_matrix_df[\"movie_id\"]-1\n",
    "mu_matrix[mu_matrix_df[\"movie_id\"],mu_matrix_df[\"user_id\"]] = mu_matrix_df[\"ratings\"]\n",
    "print(\"m*u matrix: \")\n",
    "print(mu_matrix)\n",
    "\n",
    "\"\"\"\n",
    "Comments and Observations:\n",
    "\n",
    "1) Creating a dummy numpy array with the shape of maximum value movie_id and user_id\n",
    "2) Sorting the dataframe based in user id and movie id\n",
    "3) Since movie id and user ids start from 1, making it in compatible with index(By subtracting 1).\n",
    "4) Filling the matrix index with ratings\n",
    "\n",
    "\"\"\""
   ]
  },
  {
   "cell_type": "code",
   "execution_count": 5,
   "metadata": {},
   "outputs": [
    {
     "name": "stdout",
     "output_type": "stream",
     "text": [
      "[[ 3.57400662 -1.42599338 -1.42599338 ... -1.42599338 -1.42599338\n",
      "   1.57400662]\n",
      " [-0.37152318 -0.37152318 -0.37152318 ... -0.37152318 -0.37152318\n",
      "  -0.37152318]\n",
      " [-0.23874172 -0.23874172 -0.23874172 ... -0.23874172 -0.23874172\n",
      "  -0.23874172]\n",
      " ...\n",
      " [-0.03278146 -0.03278146 -0.03278146 ... -0.03278146 -0.03278146\n",
      "  -0.03278146]\n",
      " [-0.02582781 -0.02582781 -0.02582781 ... -0.02582781 -0.02582781\n",
      "  -0.02582781]\n",
      " [-0.24288079 -0.24288079 -0.24288079 ... -0.24288079 -0.24288079\n",
      "  -0.24288079]]\n"
     ]
    },
    {
     "data": {
      "text/plain": [
       "'\\nComments and Observations:\\n\\nNormalising the matrix means taking the mean and subtracting the mean across columns.\\n\\n'"
      ]
     },
     "execution_count": 5,
     "metadata": {},
     "output_type": "execute_result"
    }
   ],
   "source": [
    "# 1. Normalize the matrix\n",
    "mean_col = np.mean(mu_matrix, 1)\n",
    "matrix_normal = mu_matrix - np.array([mean_col]).T\n",
    "print(matrix_normal)\n",
    "\n",
    "\"\"\"\n",
    "Comments and Observations:\n",
    "\n",
    "Normalising the matrix means taking the mean and subtracting the mean across columns.\n",
    "\n",
    "\"\"\""
   ]
  },
  {
   "cell_type": "code",
   "execution_count": 6,
   "metadata": {},
   "outputs": [
    {
     "name": "stdout",
     "output_type": "stream",
     "text": [
      "[[ 7.13393053e-03  1.64099327e-03  2.14622406e-03 ...  4.52266370e-03\n",
      "   6.00783778e-03  8.85674875e-03]\n",
      " [ 6.40383513e-04 -2.70126226e-03 -2.00478360e-04 ...  2.54577717e-03\n",
      "   5.40385541e-04 -1.55791869e-02]\n",
      " [ 6.72473390e-03 -3.34737240e-03 -3.95617989e-03 ...  1.71114905e-03\n",
      "   5.91124462e-03  8.44640940e-03]\n",
      " ...\n",
      " [ 1.13666709e-02  1.80896437e-03 -5.62198713e-04 ...  7.73909103e-01\n",
      "  -1.48780057e-02 -2.19959777e-03]\n",
      " [ 3.49381899e-03  1.87620989e-02 -1.08962191e-02 ... -9.78238175e-03\n",
      "   3.32703088e-01 -3.14995403e-03]\n",
      " [-1.32856412e-02  4.08015550e-02 -3.63311909e-03 ... -1.09584563e-03\n",
      "   5.44124149e-03  8.83627250e-02]]\n",
      "[2.06617808e+01 1.06804930e+01 9.14055972e+00 ... 1.71271486e-15\n",
      " 1.71271486e-15 3.80173012e-16]\n",
      "[[-5.72245537e-02 -2.69349804e-02 -1.44300959e-02 ... -3.50288960e-03\n",
      "  -8.19971409e-04 -1.25419482e-02]\n",
      " [-2.09461200e-02 -2.97843268e-02 -1.66998921e-02 ...  1.87545849e-03\n",
      "   2.26486119e-03  5.02192377e-03]\n",
      " [ 2.86333511e-02 -8.62001932e-03  1.36557569e-02 ...  1.91670702e-03\n",
      "   3.47436586e-03  2.20808096e-02]\n",
      " ...\n",
      " [ 0.00000000e+00  1.41748444e-31 -1.46145455e-31 ...  5.94341981e-31\n",
      "   3.22978452e-31  7.83853487e-32]\n",
      " [ 0.00000000e+00 -2.89130233e-32  2.93168384e-32 ...  3.84223024e-32\n",
      "   1.01111322e-33  2.76912615e-32]\n",
      " [ 0.00000000e+00  5.50774704e-17  6.93574239e-17 ... -2.73218947e-17\n",
      "  -6.11490025e-17  4.98732999e-18]]\n"
     ]
    },
    {
     "data": {
      "text/plain": [
       "'\\n\\nComments and Observations:\\nSingular-Value Decomposition(SVD) is a matrix decomposition method for reducing a matrix to its constituent parts in order to make certain subsequent matrix calculations simpler.\\nSVD decomposes the matrix in analagous to an algebric expression factorization(eg.,30=>(5*3*2))\\n\\n'"
      ]
     },
     "execution_count": 6,
     "metadata": {},
     "output_type": "execute_result"
    }
   ],
   "source": [
    "# 2. Compute SVD to get U, S and V. Use np.linalg.svd()\n",
    "mat_shape = np.sqrt(mu_matrix.shape[0] - 1)\n",
    "de_matrix = matrix_normal.T / mat_shape\n",
    "U, S, V = np.linalg.svd(de_matrix)\n",
    "print(U)\n",
    "print(S)\n",
    "print(V)\n",
    "\n",
    "\"\"\"\n",
    "\n",
    "Comments and Observations:\n",
    "Singular-Value Decomposition(SVD) is a matrix decomposition method for reducing a matrix to its constituent parts in order to make certain subsequent matrix calculations simpler.\n",
    "SVD decomposes the matrix in analagous to an algebric expression factorization(eg.,30=>(5*3*2))\n",
    "\n",
    "\"\"\""
   ]
  },
  {
   "cell_type": "code",
   "execution_count": 8,
   "metadata": {},
   "outputs": [
    {
     "data": {
      "text/plain": [
       "array([[-0.05722455, -0.02094612,  0.02863335, ...,  0.01362589,\n",
       "        -0.00193866,  0.05997806],\n",
       "       [-0.02693498, -0.02978433, -0.00862002, ...,  0.00439231,\n",
       "         0.01130363, -0.02143723],\n",
       "       [-0.0144301 , -0.01669989,  0.01365576, ...,  0.00700238,\n",
       "        -0.02176034,  0.01457793],\n",
       "       ...,\n",
       "       [-0.00350289,  0.00187546,  0.00191671, ...,  0.00069592,\n",
       "        -0.00668185, -0.006408  ],\n",
       "       [-0.00081997,  0.00226486,  0.00347437, ..., -0.00036645,\n",
       "        -0.00401153, -0.00217063],\n",
       "       [-0.01254195,  0.00502192,  0.02208081, ...,  0.02609   ,\n",
       "        -0.02060116, -0.01451355]])"
      ]
     },
     "execution_count": 8,
     "metadata": {},
     "output_type": "execute_result"
    }
   ],
   "source": [
    "# 3. From your V.T select 50 components.\n",
    "Vt = V.T[:,0:50]\n",
    "Vt"
   ]
  },
  {
   "cell_type": "code",
   "execution_count": 20,
   "metadata": {},
   "outputs": [
    {
     "name": "stdout",
     "output_type": "stream",
     "text": [
      "Recommended Movies similar to Father of the Bride Part II (1995) are:\n",
      "Waiting to Exhale (1995)\n",
      "Brady Bunch Movie, The (1995)\n",
      "Hard 8 (a.k.a. Sydney, a.k.a. Hard Eight) (1996)\n",
      "Heavy (1995)\n",
      "Cobb (1994)\n",
      "Red Rock West (1992)\n",
      "Visitors, The (Les Visiteurs) (1993)\n",
      "Flubber (1997)\n",
      "Net, The (1995)\n",
      "Little Mermaid, The (1989)\n"
     ]
    },
    {
     "name": "stderr",
     "output_type": "stream",
     "text": [
      "<ipython-input-20-83e8245da06d>:7: RuntimeWarning: invalid value encountered in true_divide\n",
      "  cos_sim = cos_sim_num/ cos_sim_de\n"
     ]
    },
    {
     "data": {
      "text/plain": [
       "'\\nComments and Observations:\\n\\nImplementations of Cosine Similarity:\\nCosine similarity = dot(a,b)/(norm(a)*norm(b))\\n\\n'"
      ]
     },
     "execution_count": 20,
     "metadata": {},
     "output_type": "execute_result"
    }
   ],
   "source": [
    "# 4. Implement a function that take movieID as input and then implement cosine similarity along with sorting to recommend top 10 movies\n",
    "def implement_cosine_similarity(vt, movieID):\n",
    "    movie_row = vt[movieID-1, :]\n",
    "    norm = np.sqrt(np.diag(np.dot(vt,vt.T)))\n",
    "    cos_sim_num = np.dot(movie_row, vt.T)\n",
    "    cos_sim_de =  (norm[movieID-1] * norm)\n",
    "    cos_sim = cos_sim_num/ cos_sim_de\n",
    "    index = np.argsort(-cos_sim)\n",
    "    return index[:10]\n",
    "\n",
    "\n",
    "indexes = implement_cosine_similarity(Vt, 5)# movie id : 5\n",
    "print(\"Recommended Movies similar to {} are:\".format(movie_df[movie_df[\"movie_id\"]==5][\"movie_name\"].iloc[0]))\n",
    "for i in indexes:\n",
    "    print(movie_df[movie_df[\"movie_id\"]==i][\"movie_name\"].iloc[0])\n",
    "\n",
    "\"\"\"\n",
    "Comments and Observations:\n",
    "\n",
    "Implementations of Cosine Similarity:\n",
    "Cosine similarity = dot(a,b)/(norm(a)*norm(b))\n",
    "\n",
    "\"\"\""
   ]
  },
  {
   "cell_type": "code",
   "execution_count": 21,
   "metadata": {},
   "outputs": [
    {
     "name": "stdout",
     "output_type": "stream",
     "text": [
      "<class 'tuple'>\n"
     ]
    }
   ],
   "source": [
    "# 5. Repeat the same process except now instead of using SVD you will use PCA to get the eigenvectors.\n",
    "# 6. You will require co-variance matrix as an input to your eig function.\n",
    "# Use np.cov() for getting co-variance matrix.\n",
    "# Use np.linalg.eig() for getting eigen vectors.\n",
    "mean_col = np.mean(mu_matrix, 1)\n",
    "trans_mat = np.matrix(mean_col).T\n",
    "mat_norm = mu_matrix - trans_mat\n",
    "cov_matrix = np.cov(mat_norm)\n",
    "result = np.linalg.eig(cov_matrix)\n",
    "print(type(result))"
   ]
  },
  {
   "cell_type": "code",
   "execution_count": 22,
   "metadata": {},
   "outputs": [
    {
     "data": {
      "text/plain": [
       "'\\nComments and Observations:\\n\\nnp.linalg.eig() provides both eigen values and eigen vectors\\n\\n'"
      ]
     },
     "execution_count": 22,
     "metadata": {},
     "output_type": "execute_result"
    }
   ],
   "source": [
    "eigenvectors = result[1]\n",
    "\n",
    "\"\"\"\n",
    "Comments and Observations:\n",
    "\n",
    "np.linalg.eig() provides both eigen values and eigen vectors\n",
    "\n",
    "\"\"\""
   ]
  },
  {
   "cell_type": "code",
   "execution_count": 23,
   "metadata": {},
   "outputs": [
    {
     "name": "stdout",
     "output_type": "stream",
     "text": [
      "Recommended Movies similar to Father of the Bride Part II (1995) are:\n",
      "Waiting to Exhale (1995)\n",
      "Brady Bunch Movie, The (1995)\n",
      "Hard 8 (a.k.a. Sydney, a.k.a. Hard Eight) (1996)\n",
      "Heavy (1995)\n",
      "Cobb (1994)\n",
      "Red Rock West (1992)\n",
      "Visitors, The (Les Visiteurs) (1993)\n",
      "Flubber (1997)\n",
      "Net, The (1995)\n",
      "Little Mermaid, The (1989)\n"
     ]
    },
    {
     "name": "stderr",
     "output_type": "stream",
     "text": [
      "<ipython-input-20-83e8245da06d>:7: RuntimeWarning: invalid value encountered in true_divide\n",
      "  cos_sim = cos_sim_num/ cos_sim_de\n"
     ]
    },
    {
     "data": {
      "text/plain": [
       "'\\nComments and Observations:\\n\\nInsead of SVD, PCA has been used. Eigen vectors has been passed as input for cosine similarity. \\n\\n'"
      ]
     },
     "execution_count": 23,
     "metadata": {},
     "output_type": "execute_result"
    }
   ],
   "source": [
    "#7. Use that same steps after that to get 50 components. Use cosine similarity to get the results\n",
    "evt = eigenvectors[:,0:50] \n",
    "indexes = implement_cosine_similarity(evt, 5)# movie id : 5\n",
    "print(\"Recommended Movies similar to {} are:\".format(movie_df[movie_df[\"movie_id\"]==5][\"movie_name\"].iloc[0]))\n",
    "for i in indexes:\n",
    "    print(movie_df[movie_df[\"movie_id\"]==i][\"movie_name\"].iloc[0])\n",
    "    \n",
    "\"\"\"\n",
    "Comments and Observations:\n",
    "\n",
    "Insead of SVD, PCA has been used. Eigen vectors has been passed as input for cosine similarity. \n",
    "\n",
    "\"\"\""
   ]
  },
  {
   "cell_type": "code",
   "execution_count": 26,
   "metadata": {},
   "outputs": [],
   "source": [
    "# 8. Compare the results for SVD and PCA."
   ]
  },
  {
   "cell_type": "markdown",
   "metadata": {},
   "source": [
    "\n",
    "**Comments and Observations:**\n",
    "\n",
    "From the results of both SVD and PCA, it is evident that both SVD and PCA provides similar recommendations.\n",
    "\n",
    "Few observations are:\n",
    "\n",
    "1) In general, SVD helps us to decompose and untangle the data into separate components whereas PCA shrinks the number of component by omitting the less significant component. In both the cases, significant components are being considered. In our case, Covariance Matrix of normalised matrix(mat_norm) equals the eigen vector. Hence the results are same.\n",
    "\n",
    "\n",
    "2) SVD is comparatively faster and singular values from SVD are sorted.\n",
    "\n",
    "3) PCA is a special case of SVD. PCA needs the data to be normalised which used SVD in calculation with extra analysis. \n"
   ]
  }
 ],
 "metadata": {
  "kernelspec": {
   "display_name": "Python 3",
   "language": "python",
   "name": "python3"
  },
  "language_info": {
   "codemirror_mode": {
    "name": "ipython",
    "version": 3
   },
   "file_extension": ".py",
   "mimetype": "text/x-python",
   "name": "python",
   "nbconvert_exporter": "python",
   "pygments_lexer": "ipython3",
   "version": "3.8.5"
  }
 },
 "nbformat": 4,
 "nbformat_minor": 4
}
